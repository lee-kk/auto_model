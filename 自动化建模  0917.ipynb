{
 "cells": [
  {
   "cell_type": "code",
   "execution_count": 1,
   "metadata": {
    "ExecuteTime": {
     "end_time": "2020-09-24T14:27:04.286959Z",
     "start_time": "2020-09-24T14:27:02.119756Z"
    }
   },
   "outputs": [],
   "source": [
    "from sklearn.model_selection import train_test_split\n",
    "import pandas as pd\n",
    "import numpy as np\n",
    "\n",
    "import os\n",
    "os.chdir(r'C:\\Users\\半兵卫\\Documents\\006 项目\\项目1 自动化建模')\n",
    "from Auto_model.ExcelReader import excelReader, getModelVars\n",
    "from Auto_model.GetDataSets import getDataSets\n",
    "from Auto_model.CharWoe import charWoe\n",
    "from Auto_model.ProcessMissExtreme import processMissExtreme\n",
    "from Auto_model.Auto_Xgb import auto_xgb\n",
    "from Auto_model.IV import Iv\n",
    "from Auto_model.PSI import Psi\n",
    "from Auto_model.BivarPlot import bivarPlot\n",
    "\n",
    "from IPython.core.interactiveshell import InteractiveShell\n",
    "InteractiveShell.ast_node_interactivity = 'all'"
   ]
  },
  {
   "cell_type": "code",
   "execution_count": 2,
   "metadata": {
    "ExecuteTime": {
     "end_time": "2020-09-24T14:27:10.885960Z",
     "start_time": "2020-09-24T14:27:10.882940Z"
    }
   },
   "outputs": [],
   "source": [
    "uid, weight, dep = \"bg_order_no_vouch\", \"weight\", \"bg_result_compensate\"\n",
    "keep_vars = [uid, weight,dep]  #不参与训练的列名，包括用户唯一标识、权重weight、样本标签三个信息"
   ]
  },
  {
   "cell_type": "markdown",
   "metadata": {
    "ExecuteTime": {
     "end_time": "2020-09-03T04:13:55.131675Z",
     "start_time": "2020-09-03T04:13:41.693631Z"
    }
   },
   "source": [
    "# 数据集处理"
   ]
  },
  {
   "cell_type": "code",
   "execution_count": 3,
   "metadata": {
    "ExecuteTime": {
     "end_time": "2020-09-24T14:27:28.429193Z",
     "start_time": "2020-09-24T14:27:15.827910Z"
    }
   },
   "outputs": [
    {
     "name": "stderr",
     "output_type": "stream",
     "text": [
      "D:\\python3\\anconda\\lib\\site-packages\\IPython\\core\\interactiveshell.py:3063: DtypeWarning: Columns (2,3) have mixed types.Specify dtype option on import or set low_memory=False.\n",
      "  interactivity=interactivity, compiler=compiler, result=result)\n",
      "D:\\python3\\anconda\\lib\\site-packages\\IPython\\core\\interactiveshell.py:3063: DtypeWarning: Columns (2,3,33,83,85) have mixed types.Specify dtype option on import or set low_memory=False.\n",
      "  interactivity=interactivity, compiler=compiler, result=result)\n"
     ]
    },
    {
     "data": {
      "text/plain": [
       "(30000, 186)"
      ]
     },
     "execution_count": 3,
     "metadata": {},
     "output_type": "execute_result"
    },
    {
     "data": {
      "text/plain": [
       "(20000, 186)"
      ]
     },
     "execution_count": 3,
     "metadata": {},
     "output_type": "execute_result"
    },
    {
     "data": {
      "text/plain": [
       "(10000, 186)"
      ]
     },
     "execution_count": 3,
     "metadata": {},
     "output_type": "execute_result"
    }
   ],
   "source": [
    "#设置weight参数表示权重，因为数据的正样本做过1/4的下采样，负样本取全部。\n",
    "#训练的时候用不到，但是就是ks和psi会用得到，为了符合真实的业务场景\n",
    "df6 = pd.read_csv(r'data\\6m.csv',header=0)\n",
    "df7 = pd.read_csv(r\"data\\7m.csv\", header=0)\n",
    "df8 = pd.read_csv(r\"data\\8m.csv\", header=0)\n",
    "df = pd.concat([df6,df7,df8])\n",
    "df[\"weight\"] = 4\n",
    "df.loc[df[dep] == 1, weight] = 1\n",
    "df = df.sample(50000)\n",
    "df.index = range(df.shape[0])\n",
    "\n",
    "offf = pd.read_csv(r\"data\\9m.csv\", header=0)\n",
    "offf[\"weight\"] = 4\n",
    "offf.loc[offf[dep] == 1, weight] = 1\n",
    "offf = offf.sample(10000)\n",
    "offf.index = range(offf.shape[0])\n",
    "\n",
    "#切分训练集和测试集\n",
    "devf = df[df.index % 10 < 6]\n",
    "valf = df[df.index % 10 >= 6]\n",
    "devf.to_csv(r\"data\\dev_raw_data.csv\", index=None)\n",
    "valf.to_csv(r\"data\\val_raw_data.csv\", index=None)\n",
    "offf.to_csv(r\"data\\off_raw_data.csv\", index=None)\n",
    "\n",
    "devf.shape\n",
    "valf.shape\n",
    "offf.shape"
   ]
  },
  {
   "cell_type": "markdown",
   "metadata": {
    "ExecuteTime": {
     "end_time": "2020-09-03T05:08:02.574633Z",
     "start_time": "2020-09-03T05:08:02.570643Z"
    },
    "scrolled": true
   },
   "source": [
    "# woe处理"
   ]
  },
  {
   "cell_type": "code",
   "execution_count": 6,
   "metadata": {
    "ExecuteTime": {
     "end_time": "2020-09-17T07:51:38.779310Z",
     "start_time": "2020-09-17T07:51:38.562829Z"
    }
   },
   "outputs": [
    {
     "name": "stdout",
     "output_type": "stream",
     "text": [
      "var_names: 145\n"
     ]
    }
   ],
   "source": [
    "#先将以前的mdel_trace删除,再做getmodelvars\n",
    "getModelVars(path=r\"data\\off_raw_data.csv\", dep=dep, weight=weight,\n",
    "             outfile=r'report\\model_trace.xlsx')\n",
    "var_names = excelReader(file=r\"report\\model_trace.xlsx\", sheet=\"vars\", var_names=[]).getcols()\n",
    "print(\"var_names: %s\" % len(var_names))"
   ]
  },
  {
   "cell_type": "code",
   "execution_count": 7,
   "metadata": {
    "ExecuteTime": {
     "end_time": "2020-09-17T07:52:54.086578Z",
     "start_time": "2020-09-17T07:52:54.073613Z"
    }
   },
   "outputs": [
    {
     "name": "stdout",
     "output_type": "stream",
     "text": [
      "var_names: 144\n"
     ]
    }
   ],
   "source": [
    "# 删除\"bg_order_no_vouch\"\n",
    "# 字符串woe处理\n",
    "var_names = excelReader(file=r\"report\\model_trace.xlsx\",   #读取model_trace中的字段名\n",
    "                        sheet=\"vars\", \n",
    "                        var_names=[]).getcols()  \n",
    "print(\"var_names: %s\" % len(var_names))\n",
    "vars = [\n",
    "     \"hz_cargo_type_name\",\n",
    "     \"hz_city_name\",\n",
    "     \"hz_departure_name\",\n",
    "     \"hz_destination_name\",\n",
    "     \"hz_vehicle_type_name\",\n",
    "     \"sj_30day_auth\",\n",
    "     \"sj_30day_register\",\n",
    "     \"sj_7day_auth\",\n",
    "     \"sj_7day_register\",\n",
    "     \"sj_card_name\",\n",
    "     \"sj_city_name\",\n",
    "     \"sj_etc_open\",\n",
    "     \"sj_vehicle_type\",\n",
    "     \"sj_vip_type\",\n",
    "     \"sj_p_cargo_truck_type\",\n",
    "     \"sj_plate_city_name\",\n",
    "     \"sj_plate_number\",\n",
    "     \"sj_plate_province_name\"\n",
    "]"
   ]
  },
  {
   "cell_type": "code",
   "execution_count": 8,
   "metadata": {
    "ExecuteTime": {
     "end_time": "2020-09-17T07:53:05.969878Z",
     "start_time": "2020-09-17T07:53:00.456979Z"
    },
    "scrolled": true
   },
   "outputs": [
    {
     "name": "stdout",
     "output_type": "stream",
     "text": [
      "已将三个数据集存入到字典中...\n",
      "hz_cargo_type_name 该变量中，值的类型超过100个，建议先做截断处理...\n",
      "hz_city_name 该变量中，值的类型超过100个，建议先做截断处理...\n",
      "hz_departure_name 该变量中，值的类型超过100个，建议先做截断处理...\n",
      "hz_destination_name 该变量中，值的类型超过100个，建议先做截断处理...\n",
      "hz_vehicle_type_name 特征中取值的个数： 80\n",
      "sj_30day_auth 特征中取值的个数： 6\n",
      "sj_30day_register 特征中取值的个数： 4\n",
      "sj_7day_auth 特征中取值的个数： 6\n",
      "sj_7day_register 特征中取值的个数： 4\n",
      "sj_card_name 特征中取值的个数： 14\n",
      "sj_city_name 该变量中，值的类型超过100个，建议先做截断处理...\n",
      "sj_etc_open 特征中取值的个数： 6\n",
      "sj_vehicle_type 特征中取值的个数： 22\n",
      "sj_vip_type 特征中取值的个数： 4\n",
      "sj_p_cargo_truck_type 特征中取值的个数： 31\n",
      "sj_plate_city_name 该变量中，值的类型超过100个，建议先做截断处理...\n",
      "sj_plate_number 特征中取值的个数： 62\n",
      "sj_plate_province_name 特征中取值的个数： 62\n"
     ]
    }
   ],
   "source": [
    "from Auto_model.CharWoe import charWoe\n",
    "datasets = getDataSets(devp=r'data\\dev_raw_data.csv',\n",
    "                        valp=r'data\\val_raw_data.csv',\n",
    "                        offp=r'data\\off_raw_data.csv',\n",
    "                        usecols=var_names+[uid, weight, dep]+vars  #导入var_names,vars,uid,dep,weight\n",
    "                      ).loading()  \n",
    "\n",
    "print(\"已将三个数据集存入到字典中...\")\n",
    "#char_woe函数的逻辑如下：\n",
    "#如果初始箱数超过100，返回变量名称 + contains too many different values...，这个特征建议做截断之后再做woe，这里直接跳过\n",
    "#初始箱数不超过100，返回变量名称 + 箱的个数，并且计算每一箱的badrate，排序\n",
    "#箱数超过10，就进行合并，相邻两箱的badrate做差值，最小的合并\n",
    "#计算每一箱的样本占比，占比不超过0.05就需要合并\n",
    "#如果某一箱不到0.05而且箱的数量大于4，就与第二箱合并，如果最后一箱不超过0.05就与倒数第二箱进行合并，\n",
    "#如果是中间的箱，左右两边badrate相差小的进行合并\n",
    "datasets = charWoe(datasets=datasets,                   \n",
    "                   keep_vars=[uid, weight, dep], \n",
    "                   weight=weight, \n",
    "                   dep=dep, \n",
    "                   vars=vars).char_woe()\n",
    "\n",
    "datasets.get(\"dev\", \"\").to_csv(r\"data\\dev_raw_data_woe.csv\", index=None)  #将字典中的三个数据集导出生成csv文件\n",
    "datasets.get(\"val\", \"\").to_csv(r\"data\\val_raw_data_woe.csv\", index=None)\n",
    "datasets.get(\"off\", \"\").to_csv(r\"data\\off_raw_data_woe.csv\", index=None)"
   ]
  },
  {
   "cell_type": "markdown",
   "metadata": {
    "ExecuteTime": {
     "end_time": "2020-09-17T05:17:31.916170Z",
     "start_time": "2020-09-17T05:17:31.912181Z"
    }
   },
   "source": [
    "# 训练模型（使用特征重要性迭代删除变量）"
   ]
  },
  {
   "cell_type": "code",
   "execution_count": 12,
   "metadata": {
    "ExecuteTime": {
     "end_time": "2020-09-17T07:56:43.255622Z",
     "start_time": "2020-09-17T07:56:43.060611Z"
    }
   },
   "outputs": [
    {
     "name": "stdout",
     "output_type": "stream",
     "text": [
      "var_names: 157\n"
     ]
    }
   ],
   "source": [
    "#取列名，放入model_trace.xlsx中\n",
    "#先将以前的mdel_trace删除,再做getmodelvars\n",
    "getModelVars(path=r\"data\\off_raw_data_woe.csv\", dep=dep, weight=weight,\n",
    "             outfile=r'report\\model_trace.xlsx')\n",
    "var_names = excelReader(file=r\"report\\model_trace.xlsx\", sheet=\"vars\", var_names=[]).getcols()\n",
    "print(\"var_names: %s\" % len(var_names))"
   ]
  },
  {
   "cell_type": "code",
   "execution_count": 13,
   "metadata": {
    "ExecuteTime": {
     "end_time": "2020-09-17T07:58:02.683333Z",
     "start_time": "2020-09-17T07:58:01.921227Z"
    }
   },
   "outputs": [
    {
     "name": "stdout",
     "output_type": "stream",
     "text": [
      "var_names: 156\n"
     ]
    }
   ],
   "source": [
    "#删除model_trace文件中的标签\n",
    "var_names = excelReader(file=r\"report\\model_trace.xlsx\", sheet=\"vars\", var_names=[]).getcols()\n",
    "print(\"var_names: %s\" % len(var_names))\n",
    "#将做过woe后的三个数据集重新导入字典中\n",
    "datasets = getDataSets(devp=r'data\\dev_raw_data_woe.csv',\n",
    "                       valp=r'data\\val_raw_data_woe.csv',\n",
    "                       offp=r'data\\off_raw_data_woe.csv',\n",
    "                       usecols=var_names + [uid, weight, dep]).loading()"
   ]
  },
  {
   "cell_type": "code",
   "execution_count": 15,
   "metadata": {
    "ExecuteTime": {
     "end_time": "2020-09-17T08:07:09.212776Z",
     "start_time": "2020-09-17T08:06:30.591451Z"
    }
   },
   "outputs": [
    {
     "name": "stdout",
     "output_type": "stream",
     "text": [
      "del var:  156 --> 146 ks:  {'devks': 0.3906537622399739, 'valks': 0.3585135129011843, 'offks': 0.369947581397818, 'valpsi': 0.0006469255304140798, 'offpsi': 0.013861970079836843} sj_day_auth,sj_day_register,sj_vehicle_length,sj_load,sj_cnt_ht_empty,sj_amt_ht_empty,sj_cnt_compensate,sj_cnt_compensate_suceess,sj_cnt_vouch_driver,sj_p_cargo_line_length\n",
      "del var:  146 --> 136 ks:  {'devks': 0.3841446823237685, 'valks': 0.3527905617373363, 'offks': 0.35891807339680715, 'valpsi': 0.0005354408114000744, 'offpsi': 0.0040032202511867294} sj_p_cargo_truck_length,sj_p_cargo_truck_load,sj_day_fis_vouch_rate,sj_30_days_cnt_ht_empty,sj_30_days_amt_ht_empty,sj_30_days_cnt_compensate,sj_30_days_cnt_compensate_suceess,sj_30_days_cnt_compensate_rate,sj_30_days_cnt_compensate_suceess_rate,sj_60_days_cnt_ht_empty\n",
      "del var:  136 --> 126 ks:  {'devks': 0.386157481271997, 'valks': 0.3547906493412338, 'offks': 0.3576545176947949, 'valpsi': 0.0005588516411555766, 'offpsi': 0.003973806020795707} sj_60_days_amt_ht_empty,sj_60_days_cnt_compensate_suceess,sj_60_days_cnt_compensate_suceess_rate,sj_90_days_cnt_ht_empty,sj_90_days_amt_ht_empty,sj_90_days_cnt_compensate_suceess,si_fis_vouch_30day_rate,si_fis_vouch_60day_rate,sj_session_7days,sj_session_14days\n",
      "del var:  126 --> 116 ks:  {'devks': 0.38441778067073923, 'valks': 0.35472690995376627, 'offks': 0.3568083145634764, 'valpsi': 0.0004351080071583886, 'offpsi': 0.0041795115064255815} sj_session_30days,sj_session_60days,sj_session_90days,sj_call_7days,sj_call_7days_cnt,sj_call_14days,sj_call_14days_cnt,sj_call_30days,sj_call_30days_cnt,sj_call_60days\n",
      "del var:  116 --> 106 ks:  {'devks': 0.38381880772818633, 'valks': 0.35426170304997495, 'offks': 0.3561451007187222, 'valpsi': 0.000375456724322773, 'offpsi': 0.005042482858642764} sj_view_7days,sj_view_7days_cnt,sj_view_14days,sj_view_30days,sj_view_60days,sj_bank_cards,sj_vip_fee_count,sj_etc_duration,sj_etc_charge_times_a,sj_etc_charge_amount_a\n",
      "del var:  106 --> 96 ks:  {'devks': 0.38337458218687503, 'valks': 0.3530104777282194, 'offks': 0.3546794739596215, 'valpsi': 0.00035177982443390004, 'offpsi': 0.004063286716578356} sj_view_14days_cnt,sj_etcdst_30days_cnts,sj_etcdst_30days_amount,sj_whitebar_limit,sj_withe_30day_cnt,sj_total_credit_time,sj_bank_auth_days,sj_loan_7cnts,sj_loan_7amounts,sj_all_loan_cnts\n",
      "del var:  96 --> 86 ks:  {'devks': 0.38077921785155355, 'valks': 0.35505648185768596, 'offks': 0.34577929583863287, 'valpsi': 0.0003889642053408724, 'offpsi': 0.013145097385866522} sj_all_loan_amounts,sj_repay_7cnts,sj_repay_7amounts,sj_all_repay_cnts,sj_all_repay_amounts,sj_loan_30amounts,sj_cash_30day_cnts,sj_freeinterest_30day_cnts,sj_cash_all_cnts,sj_freeinterest_all_cnts\n",
      "del var:  86 --> 76 ks:  {'devks': 0.3826340767270042, 'valks': 0.3565436335377928, 'offks': 0.3426523318535176, 'valpsi': 0.00032430759334521375, 'offpsi': 0.013586531219077934} sj_discount_30day_cnts,sj_discount_all_cnts,sj_etcconsum_1day_cnts,sj_etcconsum_30day_cnts,sj_etcconsum_all_cnts,sj_etcconsum_1day_amount,sj_etcconsum_30day_amount,sj_etc_balance,sj_vouch_30days,sj_vouch_30days_cnt\n",
      "del var:  76 --> 66 ks:  {'devks': 0.37792516383471614, 'valks': 0.35460517074452735, 'offks': 0.34356287480083403, 'valpsi': 0.000672306910437683, 'offpsi': 0.011029479913984706} sj_vouch_60days,sj_vouch_60days_cnt,sj_vouch_90days,sj_vouch_90days_cnt,sj_gas_last_first_day,sj_total_gas_amt,sj_late_28_gas_amt,si_avg_gas_amt,si_avg_28_gas_amt,si_max_gas_amt\n",
      "del var:  66 --> 56 ks:  {'devks': 0.3753777728595213, 'valks': 0.35360588214859134, 'offks': 0.34746167193984057, 'valpsi': 0.0007209267588010881, 'offpsi': 0.012861555687745191} si_total_gas_cnt,si_late_28_gas_cnt,si_day_avg_gas_cnt,si_total_oil_mass,si_late_28_oil_mass,si_avg_gas_oil_mass,si_avg_28_gas_oil_mass,si_total_gross_income,si_late_28_gross_income,si_avg_gross_income\n",
      "del var:  56 --> 46 ks:  {'devks': 0.3753777728595213, 'valks': 0.35360588214859134, 'offks': 0.34746167193984057, 'valpsi': 0.0007209267588010881, 'offpsi': 0.012861555687745191} si_avg_28_gross_income,si_refund_order_cnt,si_zh_gas_cnt,si_kp_gas_cnt,si_qz_gas_cnt,si_my_gas_cnt,si_qt_gas_cnt,si_coupon_amt,si_last_365_gas_cnt,si_dau1_30d\n",
      "del var:  46 --> 36 ks:  {'devks': 0.3753777728595213, 'valks': 0.35360588214859134, 'offks': 0.34746167193984057, 'valpsi': 0.0007209267588010881, 'offpsi': 0.012861555687745191} si_late_60_pau_gas_cnt,si_total_prize_price,si_no_user_prize_price,si_outdate_prize_price,hz_30_days_cnt_cargo_fis_amt,hz_30_days_cnt_compensate_suceess,hz_30_days_cnt_vouch_consignor,hz_30_days_cnt_compensate_rate,hz_60_days_cnt_cargo_fis,hz_60_days_cnt_cargo_fis_amt\n",
      "del var:  36 --> 26 ks:  {'devks': 0.37396794463385624, 'valks': 0.3522676570941787, 'offks': 0.34806152452093136, 'valpsi': 0.00038445572186759133, 'offpsi': 0.012203803278653159} hz_60_days_cnt_compensate_suceess,hz_60_days_cnt_vouch_consignor,hz_90_days_cnt_cargo_fis,hz_90_days_cnt_cargo_fis_amt,hz_90_days_cnt_cargo,hz_90_days_cnt_vouch_consignor,hz_vehicle_type_name_woe,sj_30day_auth_woe,sj_30day_register_woe,sj_7day_auth_woe\n",
      "del var:  26 --> 20 ks:  {'devks': 0.36973237999976183, 'valks': 0.34681204885880823, 'offks': 0.3438762561859798, 'valpsi': 0.0005269310411080509, 'offpsi': 0.012093905547012541} hz_90_days_cnt_compensate_suceess,sj_7day_register_woe,sj_card_name_woe,sj_etc_open_woe,sj_vehicle_type_woe,sj_vip_type_woe\n",
      "del var:  20 --> 20 ks:  {'devks': 0.36949848210678343, 'valks': 0.3495803320187714, 'offks': 0.34549967450902974, 'valpsi': 0.000589802867959326, 'offpsi': 0.012136111637018457} \n",
      "[392, 119, 102, 78, 76, 60, 61, 57, 48, 39, 32, 34, 28, 27, 17, 19, 19, 17, 14, 14]\n",
      "dev ks: 0.3657399581249201\n",
      "[233, 87, 67, 68, 44, 56, 36, 25, 35, 26, 31, 36, 16, 24, 17, 16, 16, 9, 13, 10]\n",
      "val ks: 0.34514606439490625\n",
      "[122, 42, 31, 28, 26, 22, 19, 26, 14, 15, 9, 10, 15, 9, 9, 5, 12, 7, 3, 3]\n",
      "off ks: 0.3427837025044335\n"
     ]
    }
   ],
   "source": [
    "# xgboost 算法训练\n",
    "#生成Xgboost_train_tmp报表\n",
    "#因为存在特征重要性的不一致性，比如我要删除特诊重要性小于20的特征，有个特征重要性分别是18和19,18是一定要删除的\n",
    "#19不一定，因为删除18的特征之后，重新计算特征重要性，原本重要性为19的可能变成20了\n",
    "#报表中返回每次删除10个特征重要性小于0.02的特征之后的，模型训练集、测试集和跨时间验证集的ks\n",
    "#在测试集和跨时间验证集上的psi，以及删除的特征名称\n",
    "params = {\n",
    "    \"max_depth\": 2,\n",
    "    \"learning_rate\": 0.09,\n",
    "    \"n_estimators\": 120,\n",
    "    \"min_child_weight\": 50,\n",
    "    \"subsample\": 1,\n",
    "    \"scale_pos_weight\": 1,\n",
    "    \"reg_lambda\": 30\n",
    "}\n",
    "auto_xgb(datasets=datasets,\n",
    "        uid=uid, \n",
    "        dep=dep, \n",
    "        weight=weight, \n",
    "        var_names=var_names, \n",
    "        params=params,\n",
    "        max_del_var_nums=10).training(min_score=0.02 )"
   ]
  },
  {
   "cell_type": "code",
   "execution_count": null,
   "metadata": {},
   "outputs": [],
   "source": []
  },
  {
   "cell_type": "markdown",
   "metadata": {},
   "source": [
    "# 计算IV、psi和bivar"
   ]
  },
  {
   "cell_type": "code",
   "execution_count": 24,
   "metadata": {
    "ExecuteTime": {
     "end_time": "2020-09-17T10:16:40.413461Z",
     "start_time": "2020-09-17T10:16:34.732899Z"
    },
    "scrolled": true
   },
   "outputs": [
    {
     "name": "stdout",
     "output_type": "stream",
     "text": [
      "var_names: 26\n",
      "0 sj_90_days_cnt_compensate_rate 8\n",
      "1 sj_90_days_cnt_compensate_suceess_rate 8\n",
      "2 sj_60_days_cnt_compensate 5\n",
      "3 sj_60_days_cnt_compensate_rate 8\n",
      "4 sj_90_days_cnt_compensate 6\n",
      "5 hz_30_days_cnt_cargo_compensate 7\n",
      "6 hz_60_days_cnt_compensate_rate 8\n",
      "7 hz_90_days_cnt_compensate_rate 8\n",
      "8 hz_90_days_cnt_compensate_suceess_rate 8\n",
      "9 hz_avg_cargo_call_times_last30d_rate 8\n",
      "10 hz_30_days_cnt_compensate_suceess_rate 8\n",
      "11 sj_plate_province_name_woe 8\n",
      "12 sj_age 8\n",
      "13 si_fis_vouch_90day_rate 8\n",
      "14 sj_view_30days_cnt 8\n",
      "15 sj_p_cargo_truck_type_woe 5\n",
      "16 hz_90_days_cnt_compensate_suceess 7\n",
      "17 hz_60_days_cnt_compensate_suceess_rate 8\n",
      "18 hz_60_days_cnt_cargo 8\n",
      "19 hz_30_days_cnt_cargo_fis 8\n",
      "20 sj_plate_number_woe 8\n",
      "21 hz_60_days_cnt_vouch_consignor 8\n",
      "22 hz_vehicle_type_name_woe 5\n",
      "23 hz_90_days_cnt_cargo 8\n",
      "24 sj_card_name_woe 5\n",
      "25 hz_90_days_cnt_vouch_consignor 8\n"
     ]
    }
   ],
   "source": [
    "#step6: 计算变量IV\n",
    "var_names = excelReader(file=r\"report\\model_trace.xlsx\", sheet=\"vars\", var_names=[]).getcols()\n",
    "print(\"var_names: %s\" % len(var_names))\n",
    "Iv(datapath=r'data\\dev_raw_data_woe.csv', \n",
    "   dep=dep, \n",
    "   var_names=var_names, \n",
    "   outfile=r'report\\IV.xlsx').sloveIv()"
   ]
  },
  {
   "cell_type": "code",
   "execution_count": 25,
   "metadata": {
    "ExecuteTime": {
     "end_time": "2020-09-17T10:28:46.059726Z",
     "start_time": "2020-09-17T10:28:43.413825Z"
    }
   },
   "outputs": [
    {
     "name": "stdout",
     "output_type": "stream",
     "text": [
      "var_names: 26\n",
      "0 sj_90_days_cnt_compensate_rate\n",
      "1 sj_90_days_cnt_compensate_suceess_rate\n",
      "2 sj_60_days_cnt_compensate\n",
      "3 sj_60_days_cnt_compensate_rate\n",
      "4 sj_90_days_cnt_compensate\n",
      "5 hz_30_days_cnt_cargo_compensate\n",
      "6 hz_60_days_cnt_compensate_rate\n",
      "7 hz_90_days_cnt_compensate_rate\n",
      "8 hz_90_days_cnt_compensate_suceess_rate\n",
      "9 hz_avg_cargo_call_times_last30d_rate\n",
      "10 hz_30_days_cnt_compensate_suceess_rate\n",
      "11 sj_plate_province_name_woe\n",
      "12 sj_age\n",
      "13 si_fis_vouch_90day_rate\n",
      "14 sj_view_30days_cnt\n",
      "15 sj_p_cargo_truck_type_woe\n",
      "16 hz_90_days_cnt_compensate_suceess\n",
      "17 hz_60_days_cnt_compensate_suceess_rate\n",
      "18 hz_60_days_cnt_cargo\n",
      "19 hz_30_days_cnt_cargo_fis\n",
      "20 sj_plate_number_woe\n",
      "21 hz_60_days_cnt_vouch_consignor\n",
      "22 hz_vehicle_type_name_woe\n",
      "23 hz_90_days_cnt_cargo\n",
      "24 sj_card_name_woe\n",
      "25 hz_90_days_cnt_vouch_consignor\n"
     ]
    }
   ],
   "source": [
    "var_names = excelReader(file=r\"report\\model_trace.xlsx\", sheet=\"vars\", var_names=[]).getcols()\n",
    "print(\"var_names: %s\" % len(var_names))\n",
    "Psi(datasets=datasets, dep=dep, var_names=var_names, ivfile=r'report\\IV.xlsx', outfile=r\"report\\PSI.xlsx\").slove()"
   ]
  },
  {
   "cell_type": "code",
   "execution_count": 21,
   "metadata": {
    "ExecuteTime": {
     "end_time": "2020-09-17T10:01:09.889130Z",
     "start_time": "2020-09-17T10:01:02.383069Z"
    }
   },
   "outputs": [
    {
     "name": "stdout",
     "output_type": "stream",
     "text": [
      "var_names: 26\n",
      "0 sj_90_days_cnt_compensate_rate\n",
      "1 sj_90_days_cnt_compensate_suceess_rate\n",
      "2 sj_60_days_cnt_compensate\n",
      "3 sj_60_days_cnt_compensate_rate\n",
      "4 sj_90_days_cnt_compensate\n",
      "5 hz_30_days_cnt_cargo_compensate\n",
      "6 hz_60_days_cnt_compensate_rate\n",
      "7 hz_90_days_cnt_compensate_rate\n",
      "8 hz_90_days_cnt_compensate_suceess_rate\n",
      "9 hz_avg_cargo_call_times_last30d_rate\n",
      "10 hz_30_days_cnt_compensate_suceess_rate\n",
      "11 sj_plate_province_name_woe\n",
      "12 sj_age\n",
      "13 si_fis_vouch_90day_rate\n",
      "14 sj_view_30days_cnt\n",
      "15 sj_p_cargo_truck_type_woe\n",
      "16 hz_90_days_cnt_compensate_suceess\n",
      "17 hz_60_days_cnt_compensate_suceess_rate\n",
      "18 hz_60_days_cnt_cargo\n",
      "19 hz_30_days_cnt_cargo_fis\n",
      "20 sj_plate_number_woe\n",
      "21 hz_60_days_cnt_vouch_consignor\n",
      "22 hz_vehicle_type_name_woe\n",
      "23 hz_90_days_cnt_cargo\n",
      "24 sj_card_name_woe\n",
      "25 hz_90_days_cnt_vouch_consignor\n"
     ]
    }
   ],
   "source": [
    "var_names = excelReader(file=r\"report\\model_trace.xlsx\", sheet=\"vars\", var_names=[]).getcols()\n",
    "print(\"var_names: %s\" % len(var_names))\n",
    "bivarPlot(datasets=datasets, dep=dep, var_names=var_names, ivfile=r'report\\IV.xlsx', outfile=r\"report\\Bivar.xlsx\").plot()"
   ]
  },
  {
   "cell_type": "code",
   "execution_count": 26,
   "metadata": {
    "ExecuteTime": {
     "end_time": "2020-09-17T10:31:07.290528Z",
     "start_time": "2020-09-17T10:31:07.278589Z"
    },
    "scrolled": true
   },
   "outputs": [
    {
     "name": "stdout",
     "output_type": "stream",
     "text": [
      "var_names: 26\n"
     ]
    }
   ],
   "source": [
    "var_names = excelReader(file=r\"report\\model_trace.xlsx\", sheet=\"vars\", var_names=[]).getcols()\n",
    "print(\"var_names: %s\" % len(var_names))"
   ]
  },
  {
   "cell_type": "markdown",
   "metadata": {},
   "source": [
    "# 自动化调参"
   ]
  },
  {
   "cell_type": "code",
   "execution_count": 22,
   "metadata": {
    "ExecuteTime": {
     "end_time": "2020-09-17T10:02:32.403193Z",
     "start_time": "2020-09-17T10:02:03.125566Z"
    }
   },
   "outputs": [
    {
     "name": "stdout",
     "output_type": "stream",
     "text": [
      "var_names: 26\n",
      "train_number: 0, devks: 0.4302872535420678, offks: 0.36418537597570844, params: {'max_depth': 5, 'learning_rate': 0.09, 'n_estimators': 120, 'min_child_weight': 50, 'subsample': 1, 'scale_pos_weight': 1, 'reg_lambda': 21}\n",
      "(Bad) train_number: 1, devks: 0.47163931828855815, offks: 0.3563576912134074, params: {'max_depth': 5, 'learning_rate': 0.14, 'n_estimators': 120, 'min_child_weight': 50, 'subsample': 1, 'scale_pos_weight': 1, 'reg_lambda': 21}\n",
      "(Good) train_number: 2, devks: 0.3822110616296378, offks: 0.35922778521069826, params: {'max_depth': 5, 'learning_rate': 0.04000000000000001, 'n_estimators': 120, 'min_child_weight': 50, 'subsample': 1, 'scale_pos_weight': 1, 'reg_lambda': 21}\n",
      "(Bad) train_number: 3, devks: 0.45521180169089986, offks: 0.3681416630643709, params: {'max_depth': 6, 'learning_rate': 0.09000000000000001, 'n_estimators': 120, 'min_child_weight': 50, 'subsample': 1, 'scale_pos_weight': 1, 'reg_lambda': 21}\n",
      "(Bad) train_number: 4, devks: 0.41972023257862556, offks: 0.3745739321975765, params: {'max_depth': 4, 'learning_rate': 0.09000000000000001, 'n_estimators': 120, 'min_child_weight': 50, 'subsample': 1, 'scale_pos_weight': 1, 'reg_lambda': 21}\n",
      "(Bad) train_number: 5, devks: 0.4446095780534759, offks: 0.3605830801940763, params: {'max_depth': 5, 'learning_rate': 0.09000000000000001, 'n_estimators': 140, 'min_child_weight': 50, 'subsample': 1, 'scale_pos_weight': 1, 'reg_lambda': 21}\n",
      "(Bad) train_number: 6, devks: 0.4385395876417626, offks: 0.3699238515037047, params: {'max_depth': 5, 'learning_rate': 0.09000000000000001, 'n_estimators': 125, 'min_child_weight': 50, 'subsample': 1, 'scale_pos_weight': 1, 'reg_lambda': 21}\n",
      "(Bad) train_number: 7, devks: 0.4346175433525233, offks: 0.36164456483900004, params: {'max_depth': 5, 'learning_rate': 0.09000000000000001, 'n_estimators': 115, 'min_child_weight': 50, 'subsample': 1, 'scale_pos_weight': 1, 'reg_lambda': 21}\n",
      "(Bad) train_number: 8, devks: 0.42407811817609836, offks: 0.3613549133479676, params: {'max_depth': 5, 'learning_rate': 0.09000000000000001, 'n_estimators': 100, 'min_child_weight': 50, 'subsample': 1, 'scale_pos_weight': 1, 'reg_lambda': 21}\n",
      "(Bad) train_number: 9, devks: 0.4243671798807501, offks: 0.3764642506698802, params: {'max_depth': 5, 'learning_rate': 0.09000000000000001, 'n_estimators': 120, 'min_child_weight': 70, 'subsample': 1, 'scale_pos_weight': 1, 'reg_lambda': 21}\n",
      "(Bad) train_number: 10, devks: 0.4382797041787156, offks: 0.3681074137326609, params: {'max_depth': 5, 'learning_rate': 0.09000000000000001, 'n_estimators': 120, 'min_child_weight': 55, 'subsample': 1, 'scale_pos_weight': 1, 'reg_lambda': 21}\n",
      "(Bad) train_number: 11, devks: 0.4369290097823733, offks: 0.3689805270531802, params: {'max_depth': 5, 'learning_rate': 0.09000000000000001, 'n_estimators': 120, 'min_child_weight': 45, 'subsample': 1, 'scale_pos_weight': 1, 'reg_lambda': 21}\n",
      "(Bad) train_number: 12, devks: 0.46013984290001625, offks: 0.363939514701648, params: {'max_depth': 5, 'learning_rate': 0.09000000000000001, 'n_estimators': 120, 'min_child_weight': 30, 'subsample': 1, 'scale_pos_weight': 1, 'reg_lambda': 21}\n",
      "(Bad) train_number: 13, devks: 0.4457743201546052, offks: 0.36530753086537543, params: {'max_depth': 5, 'learning_rate': 0.09000000000000001, 'n_estimators': 120, 'min_child_weight': 50, 'subsample': 0.95, 'scale_pos_weight': 1, 'reg_lambda': 21}\n",
      "(Bad) train_number: 14, devks: 0.5949389604233937, offks: 0.3476642322730963, params: {'max_depth': 5, 'learning_rate': 0.09000000000000001, 'n_estimators': 120, 'min_child_weight': 50, 'subsample': 1.0, 'scale_pos_weight': 21, 'reg_lambda': 21}\n",
      "(Bad) train_number: 15, devks: 0.5422154047734216, offks: 0.3414103043028659, params: {'max_depth': 5, 'learning_rate': 0.09000000000000001, 'n_estimators': 120, 'min_child_weight': 50, 'subsample': 1.0, 'scale_pos_weight': 6, 'reg_lambda': 21}\n",
      "(Bad) train_number: 16, devks: 0.4419902270380911, offks: 0.3663452856161859, params: {'max_depth': 5, 'learning_rate': 0.09000000000000001, 'n_estimators': 120, 'min_child_weight': 50, 'subsample': 1.0, 'scale_pos_weight': 1, 'reg_lambda': 31}\n",
      "(Bad) train_number: 17, devks: 0.4419902270380911, offks: 0.3663452856161859, params: {'max_depth': 5, 'learning_rate': 0.09000000000000001, 'n_estimators': 120, 'min_child_weight': 50, 'subsample': 1.0, 'scale_pos_weight': 1, 'reg_lambda': 11}\n",
      "--------------------------------------------------\n",
      "Best params:  {'max_depth': 5, 'learning_rate': 0.09000000000000001, 'n_estimators': 120, 'min_child_weight': 50, 'subsample': 1.0, 'scale_pos_weight': 1, 'reg_lambda': 21}\n",
      "[430, 149, 109, 92, 62, 57, 69, 40, 34, 36, 26, 25, 31, 22, 19, 10, 14, 20, 4, 4]\n",
      "dev ks: 0.4267986074732778\n",
      "[238, 83, 66, 74, 40, 38, 40, 38, 41, 31, 33, 20, 20, 23, 14, 17, 20, 11, 10, 8]\n",
      "val ks: 0.3363448935235043\n",
      "[125, 42, 31, 35, 22, 25, 13, 17, 15, 19, 9, 12, 17, 10, 8, 7, 7, 5, 8, 0]\n",
      "off ks: 0.3587566122616032\n"
     ]
    }
   ],
   "source": [
    "# step7: 参数自动化调整\n",
    "var_names = excelReader(file=r\"report\\model_trace.xlsx\", sheet=\"vars\", var_names=[]).getcols()\n",
    "print(\"var_names: %s\" % len(var_names))\n",
    "\n",
    "auto_xgb(datasets=datasets, uid=uid, dep=dep, weight=weight, var_names=var_names,\n",
    "         params=dict(), max_del_var_nums=0).auto_choose_params(target=\"weight\")"
   ]
  },
  {
   "cell_type": "code",
   "execution_count": 21,
   "metadata": {
    "ExecuteTime": {
     "end_time": "2020-09-17T05:13:03.804261Z",
     "start_time": "2020-09-17T05:13:03.799275Z"
    }
   },
   "outputs": [],
   "source": [
    "params =  {'max_depth': 5,\n",
    "           'learning_rate': 0.09000000000000001, \n",
    "           'n_estimators': 120,\n",
    "           'min_child_weight': 50,\n",
    "           'subsample': 1.0, \n",
    "           'scale_pos_weight': 1, \n",
    "           'reg_lambda': 21}"
   ]
  },
  {
   "cell_type": "markdown",
   "metadata": {},
   "source": [
    "# 递归特征删除（使用ks）"
   ]
  },
  {
   "cell_type": "code",
   "execution_count": 23,
   "metadata": {
    "ExecuteTime": {
     "end_time": "2020-09-17T05:13:54.353372Z",
     "start_time": "2020-09-17T05:13:19.337302Z"
    }
   },
   "outputs": [
    {
     "name": "stdout",
     "output_type": "stream",
     "text": [
      "train_number: 0, offks: 0.34366948314855417\n",
      "(Good) train_n: 1, offks: 0.3450191605058549 by vars: hz_30_days_cnt_compensate_rate\n",
      "(Good) train_n: 2, offks: 0.35257476811793176 by vars: sj_90_days_cnt_compensate\n",
      "(Good) train_n: 3, offks: 0.3529600208501881 by vars: sj_vehicle_type_woe\n",
      "(Bad) train_n: 4, offks: 0.34913128094465 by vars: 22\n",
      "(Bad) train_n: 5, offks: 0.3376282549007896 by vars: 22\n",
      "(Bad) train_n: 6, offks: 0.33256127651553646 by vars: 22\n",
      "(Good) train_n: 7, offks: 0.3547774312226913 by vars: sj_90_days_cnt_compensate_suceess\n",
      "(Bad) train_n: 8, offks: 0.34472362770520465 by vars: 21\n",
      "(Bad) train_n: 9, offks: 0.34768464400708343 by vars: 21\n",
      "(Bad) train_n: 10, offks: 0.34524203826102606 by vars: 21\n",
      "(Bad) train_n: 11, offks: 0.3484189512282969 by vars: 21\n",
      "(Bad) train_n: 12, offks: 0.3461022636571447 by vars: 21\n",
      "(Bad) train_n: 13, offks: 0.3513049854547701 by vars: 21\n",
      "(Bad) train_n: 14, offks: 0.337514230434397 by vars: 21\n",
      "(Bad) train_n: 15, offks: 0.34643425325997496 by vars: 21\n",
      "(Bad) train_n: 16, offks: 0.3445609941692387 by vars: 21\n",
      "(Bad) train_n: 17, offks: 0.3394262733572397 by vars: 21\n",
      "(Bad) train_n: 18, offks: 0.3428477830256612 by vars: 21\n",
      "(Bad) train_n: 19, offks: 0.3444205966970137 by vars: 21\n",
      "(Bad) train_n: 20, offks: 0.3445054040098862 by vars: 21\n",
      "(Bad) train_n: 21, offks: 0.3524728959189325 by vars: 21\n",
      "(Bad) train_n: 22, offks: 0.3522960416445276 by vars: 21\n",
      "(Bad) train_n: 23, offks: 0.35111597891297186 by vars: 21\n",
      "(Bad) train_n: 24, offks: 0.34243822575861826 by vars: 21\n",
      "(Bad) train_n: 25, offks: 0.3522378658963681 by vars: 21\n",
      "(Bad) train_n: 26, offks: 0.34913128094465 by vars: 21\n",
      "(Bad) train_n: 27, offks: 0.3446944105516845 by vars: 21\n",
      "(Bad) train_n: 28, offks: 0.3415345624705405 by vars: 21\n",
      "(Bad) train_n: 29, offks: 0.34472362770520465 by vars: 21\n",
      "(Bad) train_n: 30, offks: 0.34768464400708343 by vars: 21\n",
      "(Bad) train_n: 31, offks: 0.34524203826102606 by vars: 21\n",
      "(Bad) train_n: 32, offks: 0.3484189512282969 by vars: 21\n",
      "(Bad) train_n: 33, offks: 0.3461022636571447 by vars: 21\n",
      "(Bad) train_n: 34, offks: 0.3513049854547701 by vars: 21\n",
      "(Bad) train_n: 35, offks: 0.337514230434397 by vars: 21\n",
      "(Bad) train_n: 36, offks: 0.34643425325997496 by vars: 21\n",
      "(Bad) train_n: 37, offks: 0.3445609941692387 by vars: 21\n",
      "(Bad) train_n: 38, offks: 0.3394262733572397 by vars: 21\n",
      "(Bad) train_n: 39, offks: 0.3428477830256612 by vars: 21\n",
      "(Bad) train_n: 40, offks: 0.3444205966970137 by vars: 21\n",
      "(Bad) train_n: 41, offks: 0.3445054040098862 by vars: 21\n",
      "(Bad) train_n: 42, offks: 0.3524728959189325 by vars: 21\n",
      "(Bad) train_n: 43, offks: 0.3522960416445276 by vars: 21\n",
      "(Bad) train_n: 44, offks: 0.35111597891297186 by vars: 21\n",
      "(Bad) train_n: 45, offks: 0.34243822575861826 by vars: 21\n",
      "(Bad) train_n: 46, offks: 0.3522378658963681 by vars: 21\n",
      "(End) train_n: 46, offks: 0.3522378658963681 del_list_vars: ['hz_30_days_cnt_compensate_rate', 'sj_90_days_cnt_compensate', 'sj_vehicle_type_woe', 'sj_90_days_cnt_compensate_suceess']\n"
     ]
    }
   ],
   "source": [
    "# step8: 变量自动化调整(是否可以删除一些无用的变量)\n",
    "auto_xgb(datasets=datasets, uid=uid, dep=dep, weight=weight,\n",
    "        var_names=var_names, params=params, max_del_var_nums=1).auto_delete_vars()"
   ]
  },
  {
   "cell_type": "code",
   "execution_count": 24,
   "metadata": {
    "ExecuteTime": {
     "end_time": "2020-09-17T05:14:10.067071Z",
     "start_time": "2020-09-17T05:14:10.057125Z"
    },
    "scrolled": true
   },
   "outputs": [
    {
     "name": "stdout",
     "output_type": "stream",
     "text": [
      "var_names: 21\n"
     ]
    }
   ],
   "source": [
    "del_list = ['hz_30_days_cnt_compensate_rate',\n",
    "            'sj_90_days_cnt_compensate',\n",
    "            'sj_vehicle_type_woe',\n",
    "            'sj_90_days_cnt_compensate_suceess']\n",
    "\n",
    "for i in del_list:\n",
    "    var_names.remove(i)\n",
    "print(\"var_names: %s\" % len(var_names))\n",
    "\n",
    "var_names_end = {'变量': var_names}\n",
    "pd.DataFrame(var_names_end).to_csv(r\"report\\var_names_end.csv\", index=None)"
   ]
  },
  {
   "cell_type": "markdown",
   "metadata": {},
   "source": [
    "# 重新拟合模型并且生成报告"
   ]
  },
  {
   "cell_type": "code",
   "execution_count": 26,
   "metadata": {
    "ExecuteTime": {
     "end_time": "2020-09-17T05:15:05.709931Z",
     "start_time": "2020-09-17T05:15:05.234856Z"
    }
   },
   "outputs": [
    {
     "name": "stdout",
     "output_type": "stream",
     "text": [
      "var_names: 21\n"
     ]
    }
   ],
   "source": [
    "#生成报告\n",
    "var_names = excelReader(file=r\"report\\model_trace.xlsx\", sheet=\"vars\", var_names=[]).getcols()\n",
    "print(\"var_names: %s\" % len(var_names))\n",
    "\n",
    "params =  {'max_depth': 5,\n",
    "           'learning_rate': 0.09000000000000001, \n",
    "           'n_estimators': 120,\n",
    "           'min_child_weight': 50,\n",
    "           'subsample': 1.0, \n",
    "           'scale_pos_weight': 1, \n",
    "           'reg_lambda': 21}\n",
    "\n",
    "datasets = getDataSets(devp=r'data\\dev_raw_data_woe_trt.csv',\n",
    "                       valp=r'data\\val_raw_data_woe_trt.csv',\n",
    "                       offp=r'data\\off_raw_data_woe_trt.csv',\n",
    "                       usecols=var_names + [uid, weight, dep]).loading()"
   ]
  },
  {
   "cell_type": "code",
   "execution_count": 33,
   "metadata": {
    "ExecuteTime": {
     "end_time": "2020-09-17T05:19:18.964855Z",
     "start_time": "2020-09-17T05:19:15.335600Z"
    },
    "scrolled": false
   },
   "outputs": [
    {
     "name": "stdout",
     "output_type": "stream",
     "text": [
      "del var:  21 --> 21 ks:  {'devks': 0.4101446942814385, 'valks': 0.3210244889270239, 'offks': 0.35465151304778614, 'valpsi': 0.0003588705121370242, 'offpsi': 0.011683389741147143} \n",
      "[431, 137, 103, 75, 65, 46, 69, 46, 35, 42, 25, 24, 23, 25, 27, 36, 13, 12, 8, 1]\n",
      "dev ks: 0.4066353315185689\n",
      "[201, 78, 55, 48, 47, 33, 30, 30, 29, 30, 21, 34, 19, 21, 19, 16, 15, 12, 11, 8]\n",
      "val ks: 0.3195558905909685\n",
      "[106, 38, 34, 27, 37, 12, 22, 17, 10, 16, 15, 13, 9, 9, 9, 8, 5, 8, 5, 3]\n",
      "off ks: 0.3531273084460068\n"
     ]
    },
    {
     "name": "stderr",
     "output_type": "stream",
     "text": [
      "Exception ignored in: <function excelWriter.__del__ at 0x00000163777CB708>\n",
      "Traceback (most recent call last):\n",
      "  File \"C:\\Users\\半兵卫\\Documents\\006 项目\\项目1 自动化建模\\Auto_model\\ExcelWriter.py\", line 35, in __del__\n",
      "    self.workbook.close()\n",
      "  File \"D:\\python3\\anconda\\lib\\site-packages\\xlsxwriter\\workbook.py\", line 318, in close\n",
      "    raise FileCreateError(e)\n",
      "xlsxwriter.exceptions.FileCreateError: [Errno 13] Permission denied: 'report\\\\Xgboost_train_tmp.xlsx'\n"
     ]
    }
   ],
   "source": [
    "auto_xgb(datasets=datasets,\n",
    "        uid=uid, \n",
    "        dep=dep, \n",
    "        weight=weight, \n",
    "        var_names=var_names, \n",
    "        params=params,\n",
    "        max_del_var_nums=0).training(min_score=0.0001, \n",
    "                             modelfile=r\"report\\model_report.pmml\", \n",
    "                             output_scores=[])"
   ]
  },
  {
   "cell_type": "code",
   "execution_count": 34,
   "metadata": {
    "ExecuteTime": {
     "end_time": "2020-09-17T05:19:21.322293Z",
     "start_time": "2020-09-17T05:19:21.312288Z"
    },
    "scrolled": true
   },
   "outputs": [
    {
     "data": {
      "text/plain": [
       "XGBClassifier(base_score=0.5, booster='gbtree', colsample_bylevel=1,\n",
       "              colsample_bynode=1, colsample_bytree=1, gamma=0, gpu_id=-1,\n",
       "              importance_type='gain', interaction_constraints='',\n",
       "              learning_rate=0.09000000000000001, max_delta_step=0, max_depth=5,\n",
       "              min_child_weight=50, missing=None, monotone_constraints='()',\n",
       "              n_estimators=120, n_jobs=10, nthread=10, num_parallel_tree=1,\n",
       "              random_state=7, reg_alpha=0, reg_lambda=21, scale_pos_weight=1,\n",
       "              subsample=1.0, tree_method='exact', validate_parameters=1,\n",
       "              verbosity=None)"
      ]
     },
     "execution_count": 34,
     "metadata": {},
     "output_type": "execute_result"
    }
   ],
   "source": [
    "import joblib\n",
    "model = joblib.load( 'model.pkl') \n",
    "model"
   ]
  },
  {
   "cell_type": "code",
   "execution_count": 35,
   "metadata": {
    "ExecuteTime": {
     "end_time": "2020-09-17T05:19:23.539546Z",
     "start_time": "2020-09-17T05:19:23.511621Z"
    }
   },
   "outputs": [
    {
     "data": {
      "text/plain": [
       "array([0.31694534, 0.10454357, 0.02220125, ..., 0.02923585, 0.01579922,\n",
       "       0.02337986], dtype=float32)"
      ]
     },
     "execution_count": 35,
     "metadata": {},
     "output_type": "execute_result"
    }
   ],
   "source": [
    "#打分code\n",
    "model.predict_proba(datasets['off'][var_names])[:,1]"
   ]
  },
  {
   "cell_type": "code",
   "execution_count": 40,
   "metadata": {
    "ExecuteTime": {
     "end_time": "2020-09-17T05:20:40.539208Z",
     "start_time": "2020-09-17T05:20:38.880407Z"
    }
   },
   "outputs": [
    {
     "name": "stdout",
     "output_type": "stream",
     "text": [
      "[431, 137, 103, 75, 65, 46, 69, 46, 35, 42, 25, 24, 23, 25, 27, 36, 13, 12, 8, 1]\n",
      "dev ks: 0.4066353315185689\n",
      "[201, 78, 55, 48, 47, 33, 30, 30, 29, 30, 21, 34, 19, 21, 19, 16, 15, 12, 11, 8]\n",
      "val ks: 0.3195558905909685\n",
      "[106, 38, 34, 27, 37, 12, 22, 17, 10, 16, 15, 13, 9, 9, 9, 8, 5, 8, 5, 3]\n",
      "off ks: 0.3531273084460068\n"
     ]
    }
   ],
   "source": [
    "#生成报告\n",
    "auto_xgb(datasets=datasets, uid=uid, dep=dep, weight=weight,\n",
    "        var_names=var_names, params=params, max_del_var_nums=0).plotKS(model, bins=20)"
   ]
  },
  {
   "cell_type": "code",
   "execution_count": null,
   "metadata": {},
   "outputs": [],
   "source": []
  },
  {
   "cell_type": "code",
   "execution_count": null,
   "metadata": {},
   "outputs": [],
   "source": []
  },
  {
   "cell_type": "code",
   "execution_count": null,
   "metadata": {},
   "outputs": [],
   "source": []
  },
  {
   "cell_type": "code",
   "execution_count": null,
   "metadata": {},
   "outputs": [],
   "source": []
  },
  {
   "cell_type": "code",
   "execution_count": null,
   "metadata": {},
   "outputs": [],
   "source": []
  },
  {
   "cell_type": "code",
   "execution_count": null,
   "metadata": {},
   "outputs": [],
   "source": []
  },
  {
   "cell_type": "code",
   "execution_count": null,
   "metadata": {},
   "outputs": [],
   "source": []
  },
  {
   "cell_type": "code",
   "execution_count": null,
   "metadata": {},
   "outputs": [],
   "source": []
  }
 ],
 "metadata": {
  "kernelspec": {
   "display_name": "Python 3",
   "language": "python",
   "name": "python3"
  },
  "language_info": {
   "codemirror_mode": {
    "name": "ipython",
    "version": 3
   },
   "file_extension": ".py",
   "mimetype": "text/x-python",
   "name": "python",
   "nbconvert_exporter": "python",
   "pygments_lexer": "ipython3",
   "version": "3.7.6"
  },
  "toc": {
   "base_numbering": 1,
   "nav_menu": {},
   "number_sections": true,
   "sideBar": true,
   "skip_h1_title": false,
   "title_cell": "Table of Contents",
   "title_sidebar": "Contents",
   "toc_cell": false,
   "toc_position": {},
   "toc_section_display": true,
   "toc_window_display": true
  }
 },
 "nbformat": 4,
 "nbformat_minor": 4
}
