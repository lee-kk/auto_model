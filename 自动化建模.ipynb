{
 "cells": [
  {
   "cell_type": "code",
   "execution_count": 1,
   "metadata": {
    "ExecuteTime": {
     "end_time": "2020-09-14T14:26:14.928048Z",
     "start_time": "2020-09-14T14:26:12.324237Z"
    }
   },
   "outputs": [],
   "source": [
    "import os\n",
    "os.chdir(r'C:\\Users\\半兵卫\\Documents\\006 项目\\项目1 货运放空赔付模型（自动化建模）')\n",
    "\n",
    "import pandas as pd\n",
    "import numpy as np\n",
    "from Base.IV import Iv\n",
    "from Base.PSI import Psi\n",
    "from sklearn.utils import shuffle\n",
    "from Base.ExcelReader import excelReader, getModelVars\n",
    "from Base.XgBoost import xgBoost\n",
    "from Base.BivarPlot import bivarPlot\n",
    "from Base.GetDataSets import getDataSets\n",
    "from Base.ProcessMissExtreme import processMissExtreme\n",
    "from Base.PredictScore import predictScore\n",
    "from Base.CharWoe import charWoe\n",
    "from IPython.core.interactiveshell import InteractiveShell\n",
    "from sklearn.model_selection import train_test_split\n",
    "InteractiveShell.ast_node_interactivity = 'all'"
   ]
  },
  {
   "cell_type": "code",
   "execution_count": 2,
   "metadata": {
    "ExecuteTime": {
     "end_time": "2020-09-14T14:26:18.268845Z",
     "start_time": "2020-09-14T14:26:18.258902Z"
    }
   },
   "outputs": [],
   "source": [
    "def treatments(datasets):\n",
    "    for name, pdf in datasets.items():\n",
    "        # 变量精细化处理\n",
    "        if \"bd_plate_number_fis_record\" in pdf.columns:\n",
    "            pdf[pdf[\"bd_plate_number_fis_record\"] != -100, \"bd_plate_number_fis_record\"] = \\\n",
    "                [n[0] for n in pdf[\"bd_plate_number_fis_record\"] if n != -100]\n",
    "            datasets[name] = pdf\n",
    "    return datasets\n",
    "\n",
    "#只取出现频率较高的，做截断，其余特征赋值为“其他”\n",
    "def special(df):\n",
    "    print(\"----- bg_cargo_type_name_cargo -----\")\n",
    "    datalis = ['普货', '重货', '设备', '水果', '蔬菜', '配件', '树苗', '泡货', '家具', '西瓜', '建材', '钢材', '石材',\n",
    "               '化肥', '饮料', '地砖', '木材', '食品', '蜜蜂', '-100']\n",
    "    lis = list(df[\"bg_cargo_type_name_cargo\"].unique())\n",
    "    for val in lis:\n",
    "        if val not in datalis:\n",
    "            df.loc[df[\"bg_cargo_type_name_cargo\"] == val, \"bg_cargo_type_name_cargo\"] = u\"其他\"\n",
    "\n",
    "    print(\"----- bg_vehicle_length_name -----\")\n",
    "    df[\"bg_vehicle_length_name\"] = df[\"bg_vehicle_length_name\"].str.strip(u\"米\")\n",
    "    df.loc[np.logical_or(df[\"bg_vehicle_length_name\"] == u\"不限\", df[\"bg_vehicle_length_name\"] == u\"不限车长\"),\n",
    "           \"bg_vehicle_length_name\"] = '-100'\n",
    "    df[\"bg_vehicle_length_name\"] = pd.to_numeric(df[\"bg_vehicle_length_name\"])\n",
    "\n",
    "    print(\"----- sj_plate_number -----\")\n",
    "    df[\"sj_plate_number\"] = df[\"sj_plate_number\"].str[0]\n",
    "\n",
    "    print(\"----- bg_vehicle_length_name -----\")\n",
    "    df[\"sj_vehicle_length\"] = pd.to_numeric(df[\"sj_vehicle_length\"].str.strip(u\"米\"))\n",
    "\n",
    "    print(\"----- sj_whitebar_limit -----\")\n",
    "    df[\"sj_whitebar_limit\"] = pd.to_numeric(df[\"sj_whitebar_limit\"].str.strip(u\"元\"))\n",
    "    return df\n",
    "\n",
    "\n",
    "\n",
    "uid, weight, dep = \"bg_order_no_vouch\", \"weight\", \"bg_result_compensate\""
   ]
  },
  {
   "cell_type": "markdown",
   "metadata": {
    "ExecuteTime": {
     "end_time": "2020-09-03T04:13:55.131675Z",
     "start_time": "2020-09-03T04:13:41.693631Z"
    }
   },
   "source": [
    "# 数据集处理"
   ]
  },
  {
   "cell_type": "code",
   "execution_count": 3,
   "metadata": {
    "ExecuteTime": {
     "end_time": "2020-09-14T14:26:34.355511Z",
     "start_time": "2020-09-14T14:26:21.370938Z"
    }
   },
   "outputs": [
    {
     "name": "stderr",
     "output_type": "stream",
     "text": [
      "D:\\python3\\anconda\\lib\\site-packages\\IPython\\core\\interactiveshell.py:3063: DtypeWarning: Columns (7,9) have mixed types.Specify dtype option on import or set low_memory=False.\n",
      "  interactivity=interactivity, compiler=compiler, result=result)\n",
      "D:\\python3\\anconda\\lib\\site-packages\\IPython\\core\\interactiveshell.py:3063: DtypeWarning: Columns (7,9,46,96,98) have mixed types.Specify dtype option on import or set low_memory=False.\n",
      "  interactivity=interactivity, compiler=compiler, result=result)\n"
     ]
    },
    {
     "data": {
      "text/plain": [
       "(30000, 201)"
      ]
     },
     "execution_count": 3,
     "metadata": {},
     "output_type": "execute_result"
    },
    {
     "data": {
      "text/plain": [
       "(20000, 201)"
      ]
     },
     "execution_count": 3,
     "metadata": {},
     "output_type": "execute_result"
    },
    {
     "data": {
      "text/plain": [
       "(10000, 201)"
      ]
     },
     "execution_count": 3,
     "metadata": {},
     "output_type": "execute_result"
    }
   ],
   "source": [
    "df6 = pd.read_csv(r'data\\6m.csv',header=0)\n",
    "df7 = pd.read_csv(r\"data\\7m.csv\", header=0)\n",
    "df8 = pd.read_csv(r\"data\\8m.csv\", header=0)\n",
    "df = pd.concat([df6,df7,df8])\n",
    "df[\"weight\"] = 4\n",
    "df.loc[df[dep] == 1, weight] = 1\n",
    "df = df.sample(50000)\n",
    "df.index = range(df.shape[0])\n",
    "\n",
    "offf = pd.read_csv(r\"data\\9m.csv\", header=0)\n",
    "offf[\"weight\"] = 4\n",
    "offf.loc[offf[dep] == 1, weight] = 1\n",
    "offf = offf.sample(10000)\n",
    "offf.index = range(offf.shape[0])\n",
    "\n",
    "#切分训练集和测试集\n",
    "devf = df[df.index % 10 < 6]\n",
    "valf = df[df.index % 10 >= 6]\n",
    "devf.to_csv(r\"data\\dev_raw_data.csv\", index=None)\n",
    "valf.to_csv(r\"data\\val_raw_data.csv\", index=None)\n",
    "offf.to_csv(r\"data\\off_raw_data.csv\", index=None)\n",
    "devf.shape\n",
    "valf.shape\n",
    "offf.shape"
   ]
  },
  {
   "cell_type": "markdown",
   "metadata": {
    "ExecuteTime": {
     "end_time": "2020-09-03T05:08:02.574633Z",
     "start_time": "2020-09-03T05:08:02.570643Z"
    },
    "scrolled": true
   },
   "source": [
    "# 特殊字段处理"
   ]
  },
  {
   "cell_type": "code",
   "execution_count": 7,
   "metadata": {
    "ExecuteTime": {
     "end_time": "2020-09-14T14:29:12.253558Z",
     "start_time": "2020-09-14T14:28:53.265946Z"
    },
    "scrolled": true
   },
   "outputs": [
    {
     "name": "stdout",
     "output_type": "stream",
     "text": [
      "----- bg_cargo_type_name_cargo -----\n",
      "----- bg_vehicle_length_name -----\n",
      "----- sj_plate_number -----\n",
      "----- bg_vehicle_length_name -----\n",
      "----- sj_whitebar_limit -----\n",
      "----- bg_cargo_type_name_cargo -----\n",
      "----- bg_vehicle_length_name -----\n",
      "----- sj_plate_number -----\n",
      "----- bg_vehicle_length_name -----\n",
      "----- sj_whitebar_limit -----\n",
      "----- bg_cargo_type_name_cargo -----\n",
      "----- bg_vehicle_length_name -----\n",
      "----- sj_plate_number -----\n",
      "----- bg_vehicle_length_name -----\n",
      "----- sj_whitebar_limit -----\n"
     ]
    }
   ],
   "source": [
    "getModelVars(path=r\"data\\dev_raw_data.csv\",     #数值型变量取出来，导入到model_trace中\n",
    "             dep=dep, \n",
    "             weight=weight,\n",
    "             outfile=r'report\\model_trace.xlsx')\n",
    "\n",
    "devf = pd.read_csv(r\"data\\dev_raw_data.csv\", header=0)\n",
    "dev = special(devf)\n",
    "dev.to_csv(r\"data\\dev_raw_data_special.csv\", index=None)\n",
    "del devf\n",
    "del dev\n",
    "valf = pd.read_csv(r\"data\\val_raw_data.csv\", header=0)\n",
    "val = special(valf)\n",
    "val.to_csv(r\"data\\val_raw_data_special.csv\", index=None)\n",
    "del valf\n",
    "del val\n",
    "offf = pd.read_csv(r\"data\\off_raw_data.csv\", header=0)\n",
    "off = special(offf)\n",
    "off.to_csv(r\"data\\off_raw_data_special.csv\", index=None)\n",
    "del offf\n",
    "del off\n",
    "#在model_trace文件中，\n",
    "#删除\"bg_\"开头的特征；\n",
    "#\"hz_user_id\"和\"hz_domain_id\"。"
   ]
  },
  {
   "cell_type": "code",
   "execution_count": 6,
   "metadata": {
    "ExecuteTime": {
     "end_time": "2020-09-14T14:28:47.460366Z",
     "start_time": "2020-09-14T14:28:47.443379Z"
    }
   },
   "outputs": [
    {
     "ename": "FileNotFoundError",
     "evalue": "[Errno 2] No such file or directory: 'report\\\\model_trace.xlsx'",
     "output_type": "error",
     "traceback": [
      "\u001b[1;31m---------------------------------------------------------------------------\u001b[0m",
      "\u001b[1;31mFileNotFoundError\u001b[0m                         Traceback (most recent call last)",
      "\u001b[1;32m<ipython-input-6-c74d4639b32e>\u001b[0m in \u001b[0;36m<module>\u001b[1;34m\u001b[0m\n\u001b[0;32m      3\u001b[0m var_names = excelReader(file=r\"report\\model_trace.xlsx\",   #读取model_trace中的字段名\n\u001b[0;32m      4\u001b[0m                         \u001b[0msheet\u001b[0m\u001b[1;33m=\u001b[0m\u001b[1;34m\"vars\"\u001b[0m\u001b[1;33m,\u001b[0m\u001b[1;33m\u001b[0m\u001b[1;33m\u001b[0m\u001b[0m\n\u001b[1;32m----> 5\u001b[1;33m                         var_names=[]).getcols()  \n\u001b[0m\u001b[0;32m      6\u001b[0m \u001b[0mprint\u001b[0m\u001b[1;33m(\u001b[0m\u001b[1;34m\"var_names: %s\"\u001b[0m \u001b[1;33m%\u001b[0m \u001b[0mlen\u001b[0m\u001b[1;33m(\u001b[0m\u001b[0mvar_names\u001b[0m\u001b[1;33m)\u001b[0m\u001b[1;33m)\u001b[0m\u001b[1;33m\u001b[0m\u001b[1;33m\u001b[0m\u001b[0m\n\u001b[0;32m      7\u001b[0m vars = [\n",
      "\u001b[1;32m~\\Documents\\006 项目\\项目1 货运放空赔付模型（自动化建模）\\Base\\ExcelReader.py\u001b[0m in \u001b[0;36m__init__\u001b[1;34m(self, file, sheet, var_names)\u001b[0m\n\u001b[0;32m     17\u001b[0m \u001b[1;32mclass\u001b[0m \u001b[0mexcelReader\u001b[0m\u001b[1;33m(\u001b[0m\u001b[0mobject\u001b[0m\u001b[1;33m)\u001b[0m\u001b[1;33m:\u001b[0m\u001b[1;33m\u001b[0m\u001b[1;33m\u001b[0m\u001b[0m\n\u001b[0;32m     18\u001b[0m     \u001b[1;32mdef\u001b[0m \u001b[0m__init__\u001b[0m\u001b[1;33m(\u001b[0m\u001b[0mself\u001b[0m\u001b[1;33m,\u001b[0m \u001b[0mfile\u001b[0m\u001b[1;33m,\u001b[0m \u001b[0msheet\u001b[0m\u001b[1;33m,\u001b[0m \u001b[0mvar_names\u001b[0m\u001b[1;33m)\u001b[0m\u001b[1;33m:\u001b[0m\u001b[1;33m\u001b[0m\u001b[1;33m\u001b[0m\u001b[0m\n\u001b[1;32m---> 19\u001b[1;33m         \u001b[0mself\u001b[0m\u001b[1;33m.\u001b[0m\u001b[0mbook\u001b[0m \u001b[1;33m=\u001b[0m \u001b[0mxlrd\u001b[0m\u001b[1;33m.\u001b[0m\u001b[0mopen_workbook\u001b[0m\u001b[1;33m(\u001b[0m\u001b[0mfilename\u001b[0m\u001b[1;33m=\u001b[0m\u001b[0mfile\u001b[0m\u001b[1;33m)\u001b[0m\u001b[1;33m\u001b[0m\u001b[1;33m\u001b[0m\u001b[0m\n\u001b[0m\u001b[0;32m     20\u001b[0m         \u001b[0mself\u001b[0m\u001b[1;33m.\u001b[0m\u001b[0msheet\u001b[0m \u001b[1;33m=\u001b[0m \u001b[0mself\u001b[0m\u001b[1;33m.\u001b[0m\u001b[0mbook\u001b[0m\u001b[1;33m.\u001b[0m\u001b[0msheet_by_name\u001b[0m\u001b[1;33m(\u001b[0m\u001b[0msheet_name\u001b[0m\u001b[1;33m=\u001b[0m\u001b[0msheet\u001b[0m\u001b[1;33m)\u001b[0m\u001b[1;33m\u001b[0m\u001b[1;33m\u001b[0m\u001b[0m\n\u001b[0;32m     21\u001b[0m         \u001b[0mself\u001b[0m\u001b[1;33m.\u001b[0m\u001b[0mnrows\u001b[0m\u001b[1;33m,\u001b[0m \u001b[0mself\u001b[0m\u001b[1;33m.\u001b[0m\u001b[0mncols\u001b[0m \u001b[1;33m=\u001b[0m \u001b[0mself\u001b[0m\u001b[1;33m.\u001b[0m\u001b[0msheet\u001b[0m\u001b[1;33m.\u001b[0m\u001b[0mnrows\u001b[0m\u001b[1;33m,\u001b[0m \u001b[0mself\u001b[0m\u001b[1;33m.\u001b[0m\u001b[0msheet\u001b[0m\u001b[1;33m.\u001b[0m\u001b[0mncols\u001b[0m\u001b[1;33m\u001b[0m\u001b[1;33m\u001b[0m\u001b[0m\n",
      "\u001b[1;32mD:\\python3\\anconda\\lib\\site-packages\\xlrd\\__init__.py\u001b[0m in \u001b[0;36mopen_workbook\u001b[1;34m(filename, logfile, verbosity, use_mmap, file_contents, encoding_override, formatting_info, on_demand, ragged_rows)\u001b[0m\n\u001b[0;32m    109\u001b[0m     \u001b[1;32melse\u001b[0m\u001b[1;33m:\u001b[0m\u001b[1;33m\u001b[0m\u001b[1;33m\u001b[0m\u001b[0m\n\u001b[0;32m    110\u001b[0m         \u001b[0mfilename\u001b[0m \u001b[1;33m=\u001b[0m \u001b[0mos\u001b[0m\u001b[1;33m.\u001b[0m\u001b[0mpath\u001b[0m\u001b[1;33m.\u001b[0m\u001b[0mexpanduser\u001b[0m\u001b[1;33m(\u001b[0m\u001b[0mfilename\u001b[0m\u001b[1;33m)\u001b[0m\u001b[1;33m\u001b[0m\u001b[1;33m\u001b[0m\u001b[0m\n\u001b[1;32m--> 111\u001b[1;33m         \u001b[1;32mwith\u001b[0m \u001b[0mopen\u001b[0m\u001b[1;33m(\u001b[0m\u001b[0mfilename\u001b[0m\u001b[1;33m,\u001b[0m \u001b[1;34m\"rb\"\u001b[0m\u001b[1;33m)\u001b[0m \u001b[1;32mas\u001b[0m \u001b[0mf\u001b[0m\u001b[1;33m:\u001b[0m\u001b[1;33m\u001b[0m\u001b[1;33m\u001b[0m\u001b[0m\n\u001b[0m\u001b[0;32m    112\u001b[0m             \u001b[0mpeek\u001b[0m \u001b[1;33m=\u001b[0m \u001b[0mf\u001b[0m\u001b[1;33m.\u001b[0m\u001b[0mread\u001b[0m\u001b[1;33m(\u001b[0m\u001b[0mpeeksz\u001b[0m\u001b[1;33m)\u001b[0m\u001b[1;33m\u001b[0m\u001b[1;33m\u001b[0m\u001b[0m\n\u001b[0;32m    113\u001b[0m     \u001b[1;32mif\u001b[0m \u001b[0mpeek\u001b[0m \u001b[1;33m==\u001b[0m \u001b[1;34mb\"PK\\x03\\x04\"\u001b[0m\u001b[1;33m:\u001b[0m \u001b[1;31m# a ZIP file\u001b[0m\u001b[1;33m\u001b[0m\u001b[1;33m\u001b[0m\u001b[0m\n",
      "\u001b[1;31mFileNotFoundError\u001b[0m: [Errno 2] No such file or directory: 'report\\\\model_trace.xlsx'"
     ]
    }
   ],
   "source": [
    "# 字符串woe处理\n",
    "var_names = excelReader(file=r\"report\\model_trace.xlsx\",   #读取model_trace中的字段名\n",
    "                        sheet=\"vars\", \n",
    "                        var_names=[]).getcols()  \n",
    "print(\"var_names: %s\" % len(var_names))\n",
    "vars = [\n",
    "     \"hz_cargo_type_name\",\n",
    "     \"hz_city_name\",\n",
    "     \"hz_departure_name\",\n",
    "     \"hz_destination_name\",\n",
    "     \"hz_vehicle_type_name\",\n",
    "     \"sj_30day_auth\",\n",
    "     \"sj_30day_register\",\n",
    "     \"sj_7day_auth\",\n",
    "     \"sj_7day_register\",\n",
    "     \"sj_card_name\",\n",
    "     \"sj_city_name\",\n",
    "     \"sj_etc_open\",\n",
    "     \"sj_vehicle_type\",\n",
    "     \"sj_vip_type\",\n",
    "     \"sj_p_cargo_truck_type\",\n",
    "     \"sj_plate_city_name\",\n",
    "     \"sj_plate_number\",\n",
    "     \"sj_plate_province_name\"\n",
    "]\n",
    "\n",
    "datasets = getDataSets(devp=r'data\\dev_raw_data_special.csv',\n",
    "                        valp=r'data\\val_raw_data_special.csv',\n",
    "                        offp=r'data\\off_raw_data_special.csv',\n",
    "                        usecols=var_names+[uid, weight, dep]+vars  #导入var_names,vars,uid,dep,weight\n",
    "                      ).loading()  \n",
    "datasets = treatments(datasets)\n",
    "\n",
    "print(\"loading dataset is ok...\")\n",
    "datasets = charWoe(datasets=datasets, \n",
    "                   keep_vars=[uid, weight, dep], \n",
    "                   weight=weight, \n",
    "                   dep=dep, \n",
    "                   vars=vars).char_woe()\n",
    "\n",
    "datasets.get(\"dev\", \"\").to_csv(r\"data\\dev_raw_data_special_woe.csv\", index=None)\n",
    "datasets.get(\"val\", \"\").to_csv(r\"data\\val_raw_data_special_woe.csv\", index=None)\n",
    "datasets.get(\"off\", \"\").to_csv(r\"data\\off_raw_data_special_woe.csv\", index=None)"
   ]
  },
  {
   "cell_type": "markdown",
   "metadata": {},
   "source": [
    "# 缺失值、极值处理"
   ]
  },
  {
   "cell_type": "code",
   "execution_count": 10,
   "metadata": {
    "ExecuteTime": {
     "end_time": "2020-09-14T13:52:02.918685Z",
     "start_time": "2020-09-14T13:51:46.477669Z"
    },
    "scrolled": false
   },
   "outputs": [
    {
     "name": "stdout",
     "output_type": "stream",
     "text": [
      "var_names: 142\n",
      "0 sj_day_auth -100.0 969.0\n",
      "1 sj_day_register -100.0 1431.0\n",
      "2 sj_age -100.0 54.0\n",
      "3 sj_load -100.0 50.0\n",
      "4 sj_cnt_ht_empty -100.0 1.0\n",
      "5 sj_amt_ht_empty -100.0 5.0\n",
      "6 sj_cnt_compensate -100.0 0.0\n",
      "7 sj_cnt_compensate_suceess -100.0 0.0\n",
      "8 sj_cnt_vouch_driver -100.0 2.0\n",
      "9 sj_p_cargo_line_length -100.0 2342.01\n",
      "10 sj_p_cargo_truck_length -100.0 17.0\n",
      "11 sj_p_cargo_truck_load -100.0 100.0\n",
      "12 sj_day_fis_vouch_rate -100.0 1.0\n",
      "13 sj_30_days_cnt_ht_empty -100.0 16.0\n",
      "14 sj_30_days_amt_ht_empty -100.0 80.0\n",
      "15 sj_30_days_cnt_compensate -100.0 2.0\n",
      "16 sj_30_days_cnt_compensate_suceess -100.0 1.0\n",
      "17 sj_30_days_cnt_compensate_rate -100.0 0.5\n",
      "18 sj_30_days_cnt_compensate_suceess_rate -100.0 0.3333\n",
      "19 sj_60_days_cnt_ht_empty -100.0 28.0\n",
      "20 sj_60_days_amt_ht_empty -100.0 140.0\n",
      "21 sj_60_days_cnt_compensate -100.0 2.0\n",
      "22 sj_60_days_cnt_compensate_suceess -100.0 2.0\n",
      "23 sj_60_days_cnt_compensate_rate -100.0 0.5\n",
      "24 sj_60_days_cnt_compensate_suceess_rate -100.0 0.3333\n",
      "25 sj_90_days_cnt_ht_empty -100.0 38.0\n",
      "26 sj_90_days_amt_ht_empty -100.0 190.0\n",
      "27 sj_90_days_cnt_compensate -100.0 3.0\n",
      "28 sj_90_days_cnt_compensate_suceess -100.0 2.0\n",
      "29 sj_90_days_cnt_compensate_rate -100.0 0.5\n",
      "30 sj_90_days_cnt_compensate_suceess_rate -100.0 0.3333\n",
      "31 si_fis_vouch_30day_rate -100.0 1.0\n",
      "32 si_fis_vouch_60day_rate -100.0 1.0\n",
      "33 si_fis_vouch_90day_rate -100.0 1.0385\n",
      "34 sj_session_7days -100.0 7.0\n",
      "35 sj_session_14days -100.0 14.0\n",
      "36 sj_session_30days -100.0 30.0\n",
      "37 sj_session_60days -100.0 60.0\n",
      "38 sj_session_90days -100.0 90.0\n",
      "39 sj_call_7days -100.0 7.0\n",
      "40 sj_call_7days_cnt -100.0 169.01\n",
      "41 sj_call_14days -100.0 14.0\n",
      "42 sj_call_14days_cnt -100.0 291.0\n",
      "43 sj_call_30days -100.0 29.0\n",
      "44 sj_call_30days_cnt -100.0 550.0\n",
      "45 sj_call_60days -100.0 55.0\n",
      "46 sj_view_7days -100.0 7.0\n",
      "47 sj_view_7days_cnt -100.0 987.01\n",
      "48 sj_view_14days -100.0 14.0\n",
      "49 sj_view_14days_cnt -100.0 1791.02\n",
      "50 sj_view_30days_cnt -100.0 3377.03\n",
      "51 sj_view_30days -100.0 30.0\n",
      "52 sj_view_60days -100.0 60.0\n",
      "53 sj_bank_cards -100.0 8.0\n",
      "54 sj_vip_fee_count -100.0 2.0\n",
      "55 sj_etc_duration -100.0 26.0\n",
      "56 sj_etc_charge_times_a -100.0 148.0\n",
      "57 sj_etc_charge_amount_a -100.0 364603.0\n",
      "58 sj_etcdst_30days_cnts -100.0 14.0\n",
      "59 sj_etcdst_30days_amount -100.0 27200.0\n",
      "60 sj_withe_30day_cnt -100.0 7.0\n",
      "61 sj_total_credit_time -100.0 55.0\n",
      "62 sj_bank_auth_days -100.0 43339.0\n",
      "63 sj_loan_7cnts -100.0 2.0\n",
      "64 sj_loan_7amounts -100.0 4800.0\n",
      "65 sj_all_loan_cnts -100.0 55.0\n",
      "66 sj_all_loan_amounts -100.0 128607.95\n",
      "67 sj_repay_7cnts -100.0 2.0\n",
      "68 sj_repay_7amounts -100.0 4978.12\n",
      "69 sj_all_repay_cnts -100.0 53.0\n",
      "70 sj_all_repay_amounts -100.0 124809.23\n",
      "71 sj_loan_30amounts -100.0 14070.15\n",
      "72 sj_cash_30day_cnts -100.0 0.0\n",
      "73 sj_freeinterest_30day_cnts -100.0 1.0\n",
      "74 sj_cash_all_cnts -100.0 3.0\n",
      "75 sj_freeinterest_all_cnts -100.0 3.0\n",
      "76 sj_discount_30day_cnts -100.0 3.0\n",
      "77 sj_discount_all_cnts -100.0 8.0\n",
      "78 sj_etcconsum_1day_cnts -100.0 7.0\n",
      "79 sj_etcconsum_30day_cnts -100.0 67.0\n",
      "80 sj_etcconsum_all_cnts -100.0 787.0\n",
      "81 sj_etcconsum_1day_amount -100.0 2370.0\n",
      "82 sj_etcconsum_30day_amount -100.0 25366.48\n",
      "83 sj_etc_balance -100.0 4609.11\n",
      "84 sj_vouch_30days -100.0 15.0\n",
      "85 sj_vouch_30days_cnt -100.0 18.0\n",
      "86 sj_vouch_60days -100.0 26.0\n",
      "87 sj_vouch_60days_cnt -100.0 32.0\n",
      "88 sj_vouch_90days -100.0 36.0\n",
      "89 sj_vouch_90days_cnt -100.0 44.0\n",
      "90 sj_gas_last_first_day -100.0 -100.0\n",
      "91 sj_total_gas_amt -100.0 -100.0\n",
      "92 sj_late_28_gas_amt -100.0 -100.0\n",
      "93 si_avg_gas_amt -100.0 -100.0\n",
      "94 si_avg_28_gas_amt -100.0 -100.0\n",
      "95 si_max_gas_amt -100.0 -100.0\n",
      "96 si_total_gas_cnt -100.0 -100.0\n",
      "97 si_late_28_gas_cnt -100.0 -100.0\n",
      "98 si_day_avg_gas_cnt -100.0 -100.0\n",
      "99 si_total_oil_mass -100.0 -100.0\n",
      "100 si_late_28_oil_mass -100.0 -100.0\n",
      "101 si_avg_gas_oil_mass -100.0 -100.0\n",
      "102 si_avg_28_gas_oil_mass -100.0 -100.0\n",
      "103 si_total_gross_income -100.0 -100.0\n",
      "104 si_late_28_gross_income -100.0 -100.0\n",
      "105 si_avg_gross_income -100.0 -100.0\n",
      "106 si_avg_28_gross_income -100.0 -100.0\n",
      "107 si_refund_order_cnt -100.0 -100.0\n",
      "108 si_zh_gas_cnt -100.0 -100.0\n",
      "109 si_kp_gas_cnt -100.0 -100.0\n",
      "110 si_qz_gas_cnt -100.0 -100.0\n",
      "111 si_my_gas_cnt -100.0 -100.0\n",
      "112 si_qt_gas_cnt -100.0 -100.0\n",
      "113 si_coupon_amt -100.0 -100.0\n",
      "114 si_last_365_gas_cnt -100.0 -100.0\n",
      "115 si_dau1_30d -100.0 -100.0\n",
      "116 si_late_60_pau_gas_cnt -100.0 -100.0\n",
      "117 si_total_prize_price -100.0 -100.0\n",
      "118 si_no_user_prize_price -100.0 -100.0\n",
      "119 si_outdate_prize_price -100.0 -100.0\n",
      "120 hz_avg_cargo_call_times_last30d_rate 0.0 26.76523\n",
      "121 hz_30_days_cnt_cargo_fis -100.0 64.0\n",
      "122 hz_30_days_cnt_cargo_fis_amt -100.0 320.0\n",
      "123 hz_30_days_cnt_cargo_compensate -100.0 4.0\n",
      "124 hz_30_days_cnt_compensate_suceess -100.0 2.0\n",
      "125 hz_30_days_cnt_vouch_consignor -100.0 116.0\n",
      "126 hz_30_days_cnt_compensate_rate -100.0 0.4\n",
      "127 hz_30_days_cnt_compensate_suceess_rate -100.0 0.25\n",
      "128 hz_60_days_cnt_cargo_fis -100.0 115.0\n",
      "129 hz_60_days_cnt_cargo_fis_amt -100.0 575.0\n",
      "130 hz_60_days_cnt_compensate_suceess -100.0 4.0\n",
      "131 hz_60_days_cnt_cargo -100.0 44090.01\n",
      "132 hz_60_days_cnt_vouch_consignor -100.0 203.01\n",
      "133 hz_60_days_cnt_compensate_rate -100.0 0.3333\n",
      "134 hz_60_days_cnt_compensate_suceess_rate -100.0 0.2\n",
      "135 hz_90_days_cnt_cargo_fis -100.0 157.01\n",
      "136 hz_90_days_cnt_cargo_fis_amt -100.0 785.05\n",
      "137 hz_90_days_cnt_compensate_suceess -100.0 4.0\n",
      "138 hz_90_days_cnt_cargo -100.0 60789.15\n",
      "139 hz_90_days_cnt_vouch_consignor -100.0 276.0\n",
      "140 hz_90_days_cnt_compensate_rate -100.0 0.2857\n",
      "141 hz_90_days_cnt_compensate_suceess_rate -100.0 0.1818\n"
     ]
    }
   ],
   "source": [
    "# step4: 数据缺失值、极值处理&数据集转换(不再作此处理)\n",
    "print(\"var_names: %s\" % len(var_names))\n",
    "#对数值型变量做woe处理\n",
    "processMissExtreme(devp=r\"data\\dev_raw_data_special_woe.csv\",\n",
    "                   valp=r\"data\\val_raw_data_special_woe.csv\",\n",
    "                   offp=r\"data\\off_raw_data_special_woe.csv\",\n",
    "                   var_names=var_names).dealing()"
   ]
  },
  {
   "cell_type": "code",
   "execution_count": null,
   "metadata": {},
   "outputs": [],
   "source": [
    "# 训练模型（使用特征重要性迭代删除变量）\n",
    "\n",
    "#取列名，放入model_trace.xlsx中\n",
    "#先将以前的mdel_trace删除,再做getmodelvars\n",
    "getModelVars(path=r\"data\\off_raw_data_special_woe_trt.csv\", dep=dep, weight=weight,\n",
    "             outfile=r'report\\model_trace.xlsx')\n",
    "var_names = excelReader(file=r\"report\\model_trace.xlsx\", sheet=\"vars\", var_names=[]).getcols()\n",
    "print(\"var_names: %s\" % len(var_names))\n",
    "\n",
    "#删除bg开头的特征\n",
    "var_names = excelReader(file=r\"report\\model_trace.xlsx\", sheet=\"vars\", var_names=[]).getcols()\n",
    "print(\"var_names: %s\" % len(var_names))\n",
    "\n",
    "datasets = getDataSets(devp=r'data\\dev_raw_data_special_woe_trt.csv',\n",
    "                       valp=r'data\\val_raw_data_special_woe_trt.csv',\n",
    "                       offp=r'data\\off_raw_data_special_woe_trt.csv',\n",
    "                       usecols=var_names + [uid, weight, dep]).loading()\n",
    "\n",
    "# xgboost 算法训练\n",
    "#生成model.pkl\n",
    "#生成Xgboost_train_tmp\n",
    "#生成ks报告\n",
    "params = {\n",
    "    \"max_depth\": 2,\n",
    "    \"learning_rate\": 0.09,\n",
    "    \"n_estimators\": 120,\n",
    "    \"min_child_weight\": 50,\n",
    "    \"subsample\": 1,\n",
    "    \"scale_pos_weight\": 1,\n",
    "    \"reg_lambda\": 30\n",
    "}\n",
    "xgBoost(datasets=datasets,\n",
    "        uid=uid, \n",
    "        dep=dep, \n",
    "        weight=weight, \n",
    "        var_names=var_names, \n",
    "        params=params,\n",
    "        max_del_var_nums=20).training(min_score=0.02, \n",
    "                             modelfile=r\"report\\model_report.pmml\", \n",
    "                             output_scores=[])"
   ]
  },
  {
   "cell_type": "code",
   "execution_count": null,
   "metadata": {},
   "outputs": [],
   "source": []
  },
  {
   "cell_type": "markdown",
   "metadata": {},
   "source": [
    "# 计算IV、psi和bivar"
   ]
  },
  {
   "cell_type": "code",
   "execution_count": 15,
   "metadata": {
    "ExecuteTime": {
     "end_time": "2020-09-14T14:00:56.036468Z",
     "start_time": "2020-09-14T14:00:51.606660Z"
    }
   },
   "outputs": [
    {
     "name": "stdout",
     "output_type": "stream",
     "text": [
      "var_names: 22\n",
      "0 hz_60_days_cnt_compensate_suceess 7\n",
      "1 hz_90_days_cnt_compensate_suceess_rate 8\n",
      "2 hz_avg_cargo_call_times_last30d_rate 8\n",
      "3 sj_60_days_cnt_compensate_rate 8\n",
      "4 sj_90_days_cnt_compensate_rate 8\n",
      "5 hz_30_days_cnt_compensate_suceess 5\n",
      "6 sj_60_days_cnt_compensate_suceess_rate 6\n",
      "7 hz_60_days_cnt_compensate_rate 8\n",
      "8 sj_90_days_cnt_compensate 6\n",
      "9 hz_90_days_cnt_compensate_suceess 7\n",
      "10 sj_90_days_cnt_compensate_suceess_rate 8\n",
      "11 sj_plate_number_woe 8\n",
      "12 si_fis_vouch_90day_rate 8\n",
      "13 hz_90_days_cnt_compensate_rate 8\n",
      "14 hz_30_days_cnt_compensate_rate 8\n",
      "15 hz_60_days_cnt_compensate_suceess_rate 8\n",
      "16 hz_30_days_cnt_cargo_fis 8\n",
      "17 hz_30_days_cnt_cargo_compensate 7\n",
      "18 sj_vehicle_type_woe 5\n",
      "19 hz_30_days_cnt_vouch_consignor 8\n",
      "20 sj_card_name_woe 5\n",
      "21 sj_plate_province_name_woe 7\n"
     ]
    }
   ],
   "source": [
    "#step6: 计算变量IV\n",
    "var_names = excelReader(file=r\"report\\model_trace.xlsx\", sheet=\"vars\", var_names=[]).getcols()\n",
    "print(\"var_names: %s\" % len(var_names))\n",
    "Iv(datapath=r'data\\dev_raw_data_special_woe_trt.csv', \n",
    "   dep=dep, \n",
    "   var_names=var_names, \n",
    "   outfile=r'report\\IV.xlsx').sloveIv()"
   ]
  },
  {
   "cell_type": "code",
   "execution_count": 16,
   "metadata": {
    "ExecuteTime": {
     "end_time": "2020-09-14T14:03:00.695436Z",
     "start_time": "2020-09-14T14:02:58.414538Z"
    }
   },
   "outputs": [
    {
     "name": "stdout",
     "output_type": "stream",
     "text": [
      "var_names: 22\n",
      "0 hz_60_days_cnt_compensate_suceess\n",
      "1 hz_90_days_cnt_compensate_suceess_rate\n",
      "2 hz_avg_cargo_call_times_last30d_rate\n",
      "3 sj_60_days_cnt_compensate_rate\n",
      "4 sj_90_days_cnt_compensate_rate\n",
      "5 hz_30_days_cnt_compensate_suceess\n",
      "6 sj_60_days_cnt_compensate_suceess_rate\n",
      "7 hz_60_days_cnt_compensate_rate\n",
      "8 sj_90_days_cnt_compensate\n",
      "9 hz_90_days_cnt_compensate_suceess\n",
      "10 sj_90_days_cnt_compensate_suceess_rate\n",
      "11 sj_plate_number_woe\n",
      "12 si_fis_vouch_90day_rate\n",
      "13 hz_90_days_cnt_compensate_rate\n",
      "14 hz_30_days_cnt_compensate_rate\n",
      "15 hz_60_days_cnt_compensate_suceess_rate\n",
      "16 hz_30_days_cnt_cargo_fis\n",
      "17 hz_30_days_cnt_cargo_compensate\n",
      "18 sj_vehicle_type_woe\n",
      "19 hz_30_days_cnt_vouch_consignor\n",
      "20 sj_card_name_woe\n",
      "21 sj_plate_province_name_woe\n"
     ]
    }
   ],
   "source": [
    "var_names = excelReader(file=r\"report\\model_trace.xlsx\", sheet=\"vars\", var_names=[]).getcols()\n",
    "print(\"var_names: %s\" % len(var_names))\n",
    "Psi(datasets=datasets, dep=dep, var_names=var_names, ivfile=r'report\\IV.xlsx', outfile=r\"report\\PSI.xlsx\").slove()"
   ]
  },
  {
   "cell_type": "code",
   "execution_count": 17,
   "metadata": {
    "ExecuteTime": {
     "end_time": "2020-09-14T14:05:40.451219Z",
     "start_time": "2020-09-14T14:05:33.619373Z"
    }
   },
   "outputs": [
    {
     "name": "stdout",
     "output_type": "stream",
     "text": [
      "var_names: 21\n",
      "0 sj_vehicle_type_woe\n",
      "1 sj_60_days_cnt_compensate_suceess_rate\n",
      "2 sj_card_name_woe\n",
      "3 sj_90_days_cnt_compensate_suceess_rate\n",
      "4 hz_30_days_cnt_cargo_fis\n",
      "5 sj_plate_province_name_woe\n",
      "6 hz_30_days_cnt_vouch_consignor\n",
      "7 sj_plate_number_woe\n",
      "8 sj_60_days_cnt_compensate_rate\n",
      "9 si_fis_vouch_90day_rate\n",
      "10 sj_90_days_cnt_compensate_rate\n",
      "11 hz_30_days_cnt_compensate_rate\n",
      "12 hz_60_days_cnt_compensate_rate\n",
      "13 hz_60_days_cnt_compensate_suceess_rate\n",
      "14 hz_60_days_cnt_compensate_suceess\n",
      "15 hz_30_days_cnt_cargo_compensate\n",
      "16 hz_90_days_cnt_compensate_rate\n",
      "17 hz_30_days_cnt_compensate_suceess\n",
      "18 hz_90_days_cnt_compensate_suceess_rate\n",
      "19 sj_90_days_cnt_compensate\n",
      "20 hz_90_days_cnt_compensate_suceess\n"
     ]
    }
   ],
   "source": [
    "var_names = excelReader(file=r\"report\\model_trace.xlsx\", sheet=\"vars\", var_names=[]).getcols()\n",
    "print(\"var_names: %s\" % len(var_names))\n",
    "bivarPlot(datasets=datasets, dep=dep, var_names=var_names, ivfile=r'report\\IV.xlsx', outfile=r\"report\\Bivar.xlsx\").plot()"
   ]
  },
  {
   "cell_type": "code",
   "execution_count": 18,
   "metadata": {
    "ExecuteTime": {
     "end_time": "2020-09-14T14:07:14.115418Z",
     "start_time": "2020-09-14T14:07:14.101455Z"
    },
    "scrolled": true
   },
   "outputs": [
    {
     "name": "stdout",
     "output_type": "stream",
     "text": [
      "var_names: 21\n"
     ]
    }
   ],
   "source": [
    "var_names = excelReader(file=r\"report\\model_trace.xlsx\", sheet=\"vars\", var_names=[]).getcols()\n",
    "print(\"var_names: %s\" % len(var_names))"
   ]
  },
  {
   "cell_type": "markdown",
   "metadata": {},
   "source": [
    "# 自动化调参"
   ]
  },
  {
   "cell_type": "code",
   "execution_count": 19,
   "metadata": {
    "ExecuteTime": {
     "end_time": "2020-09-14T14:07:43.767034Z",
     "start_time": "2020-09-14T14:07:18.606367Z"
    }
   },
   "outputs": [
    {
     "name": "stdout",
     "output_type": "stream",
     "text": [
      "var_names: 21\n",
      "train_number: 0, devks: 0.38860815761457407, offks: 0.3744819536991994, params: {'max_depth': 5, 'learning_rate': 0.09, 'n_estimators': 120, 'min_child_weight': 50, 'subsample': 1, 'scale_pos_weight': 1, 'reg_lambda': 21}\n",
      "(Bad) train_number: 1, devks: 0.4074215322513981, offks: 0.3708627002892385, params: {'max_depth': 5, 'learning_rate': 0.14, 'n_estimators': 120, 'min_child_weight': 50, 'subsample': 1, 'scale_pos_weight': 1, 'reg_lambda': 21}\n",
      "(Good) train_number: 2, devks: 0.37315671828602026, offks: 0.3710267404281636, params: {'max_depth': 5, 'learning_rate': 0.04000000000000001, 'n_estimators': 120, 'min_child_weight': 50, 'subsample': 1, 'scale_pos_weight': 1, 'reg_lambda': 21}\n",
      "(Bad) train_number: 3, devks: 0.4052449160362829, offks: 0.3710814204744719, params: {'max_depth': 6, 'learning_rate': 0.09000000000000001, 'n_estimators': 120, 'min_child_weight': 50, 'subsample': 1, 'scale_pos_weight': 1, 'reg_lambda': 21}\n",
      "(Bad) train_number: 4, devks: 0.3867557733005915, offks: 0.37218727727308726, params: {'max_depth': 4, 'learning_rate': 0.09000000000000001, 'n_estimators': 120, 'min_child_weight': 50, 'subsample': 1, 'scale_pos_weight': 1, 'reg_lambda': 21}\n",
      "(Bad) train_number: 5, devks: 0.3968867064336634, offks: 0.36652694972075467, params: {'max_depth': 5, 'learning_rate': 0.09000000000000001, 'n_estimators': 140, 'min_child_weight': 50, 'subsample': 1, 'scale_pos_weight': 1, 'reg_lambda': 21}\n",
      "(Bad) train_number: 6, devks: 0.3941493783998159, offks: 0.3658538194955106, params: {'max_depth': 5, 'learning_rate': 0.09000000000000001, 'n_estimators': 125, 'min_child_weight': 50, 'subsample': 1, 'scale_pos_weight': 1, 'reg_lambda': 21}\n",
      "(Bad) train_number: 7, devks: 0.3930658249149402, offks: 0.3633564497942899, params: {'max_depth': 5, 'learning_rate': 0.09000000000000001, 'n_estimators': 115, 'min_child_weight': 50, 'subsample': 1, 'scale_pos_weight': 1, 'reg_lambda': 21}\n",
      "(Bad) train_number: 8, devks: 0.3911145110834009, offks: 0.3677468804090822, params: {'max_depth': 5, 'learning_rate': 0.09000000000000001, 'n_estimators': 100, 'min_child_weight': 50, 'subsample': 1, 'scale_pos_weight': 1, 'reg_lambda': 21}\n",
      "(Bad) train_number: 9, devks: 0.3898776418706421, offks: 0.36632708472390346, params: {'max_depth': 5, 'learning_rate': 0.09000000000000001, 'n_estimators': 120, 'min_child_weight': 70, 'subsample': 1, 'scale_pos_weight': 1, 'reg_lambda': 21}\n",
      "(Bad) train_number: 10, devks: 0.39640432076753285, offks: 0.3707175153386958, params: {'max_depth': 5, 'learning_rate': 0.09000000000000001, 'n_estimators': 120, 'min_child_weight': 55, 'subsample': 1, 'scale_pos_weight': 1, 'reg_lambda': 21}\n",
      "(Bad) train_number: 11, devks: 0.3955743471590254, offks: 0.361753758781804, params: {'max_depth': 5, 'learning_rate': 0.09000000000000001, 'n_estimators': 120, 'min_child_weight': 45, 'subsample': 1, 'scale_pos_weight': 1, 'reg_lambda': 21}\n",
      "(Bad) train_number: 12, devks: 0.4029952287778459, offks: 0.36045275078343314, params: {'max_depth': 5, 'learning_rate': 0.09000000000000001, 'n_estimators': 120, 'min_child_weight': 30, 'subsample': 1, 'scale_pos_weight': 1, 'reg_lambda': 21}\n",
      "(Bad) train_number: 13, devks: 0.39689996932851296, offks: 0.36152749652121774, params: {'max_depth': 5, 'learning_rate': 0.09000000000000001, 'n_estimators': 120, 'min_child_weight': 50, 'subsample': 0.95, 'scale_pos_weight': 1, 'reg_lambda': 21}\n",
      "(Bad) train_number: 14, devks: 0.5093201031369415, offks: 0.3277625679258162, params: {'max_depth': 5, 'learning_rate': 0.09000000000000001, 'n_estimators': 120, 'min_child_weight': 50, 'subsample': 1.0, 'scale_pos_weight': 21, 'reg_lambda': 21}\n",
      "(Bad) train_number: 15, devks: 0.4526907118779567, offks: 0.3496807816606896, params: {'max_depth': 5, 'learning_rate': 0.09000000000000001, 'n_estimators': 120, 'min_child_weight': 50, 'subsample': 1.0, 'scale_pos_weight': 6, 'reg_lambda': 21}\n",
      "(Bad) train_number: 16, devks: 0.3926196411127385, offks: 0.36367038868085333, params: {'max_depth': 5, 'learning_rate': 0.09000000000000001, 'n_estimators': 120, 'min_child_weight': 50, 'subsample': 1.0, 'scale_pos_weight': 1, 'reg_lambda': 31}\n",
      "(Bad) train_number: 17, devks: 0.3926196411127385, offks: 0.36367038868085333, params: {'max_depth': 5, 'learning_rate': 0.09000000000000001, 'n_estimators': 120, 'min_child_weight': 50, 'subsample': 1.0, 'scale_pos_weight': 1, 'reg_lambda': 11}\n",
      "--------------------------------------------------\n",
      "Best params:  {'max_depth': 5, 'learning_rate': 0.09000000000000001, 'n_estimators': 120, 'min_child_weight': 50, 'subsample': 1.0, 'scale_pos_weight': 1, 'reg_lambda': 21}\n",
      "[326.0, 193.0, 113.0, 92.0, 61.0, 65.0, 43.0, 48.0, 43.0, 46.0, 38.0, 32.0, 30.0, 32.0, 23.0, 16.0, 24.0, 13.0, 10.0, 3.0]\n",
      "dev ks: 0.385741870867284\n",
      "[166.0, 107.0, 79.0, 45.0, 38.0, 41.0, 46.0, 31.0, 32.0, 25.0, 17.0, 15.0, 15.0, 20.0, 28.0, 21.0, 14.0, 14.0, 13.0, 9.0]\n",
      "val ks: 0.32722681270405124\n",
      "[94.0, 53.0, 52.0, 32.0, 37.0, 25.0, 24.0, 11.0, 17.0, 15.0, 8.0, 5.0, 13.0, 12.0, 9.0, 8.0, 10.0, 6.0, 12.0, 1.0]\n",
      "off ks: 0.3694683591083759\n"
     ]
    }
   ],
   "source": [
    "# step7: 参数自动化调整\n",
    "var_names = excelReader(file=r\"report\\model_trace.xlsx\", sheet=\"vars\", var_names=[]).getcols()\n",
    "print(\"var_names: %s\" % len(var_names))\n",
    "\n",
    "xgBoost(datasets=datasets, uid=uid, dep=dep, weight=weight, var_names=var_names,\n",
    "         params=dict(), max_del_var_nums=0).auto_choose_params(target=\"weight\")"
   ]
  },
  {
   "cell_type": "code",
   "execution_count": 20,
   "metadata": {
    "ExecuteTime": {
     "end_time": "2020-09-14T14:08:59.793787Z",
     "start_time": "2020-09-14T14:08:59.788801Z"
    }
   },
   "outputs": [],
   "source": [
    "params = {'max_depth': 5, 'learning_rate': 0.09000000000000001, \n",
    "          'n_estimators': 120, 'min_child_weight': 100, \n",
    "          'subsample': 1.0, 'scale_pos_weight': 1, 'reg_lambda': 21}"
   ]
  },
  {
   "cell_type": "markdown",
   "metadata": {},
   "source": [
    "# 递归特征删除（使用ks）"
   ]
  },
  {
   "cell_type": "code",
   "execution_count": 21,
   "metadata": {
    "ExecuteTime": {
     "end_time": "2020-09-14T14:09:28.266713Z",
     "start_time": "2020-09-14T14:09:02.435570Z"
    }
   },
   "outputs": [
    {
     "name": "stdout",
     "output_type": "stream",
     "text": [
      "train_number: 0, offks: 0.3768511081194213\n",
      "(Bad) train_n: 1, offks: 0.37602336534944314 by vars: 21\n",
      "(Good) train_n: 2, offks: 0.3815196527628508 by vars: sj_60_days_cnt_compensate_suceess_rate\n",
      "(Good) train_n: 3, offks: 0.3828706270104345 by vars: sj_card_name_woe\n",
      "(Bad) train_n: 4, offks: 0.3807324486478944 by vars: 19\n",
      "(Bad) train_n: 5, offks: 0.3734336052251498 by vars: 19\n",
      "(Bad) train_n: 6, offks: 0.379426726852428 by vars: 19\n",
      "(Bad) train_n: 7, offks: 0.3785659875027812 by vars: 19\n",
      "(Bad) train_n: 8, offks: 0.37923157565267235 by vars: 19\n",
      "(Bad) train_n: 9, offks: 0.3761826916912727 by vars: 19\n",
      "(Bad) train_n: 10, offks: 0.3692977196535171 by vars: 19\n",
      "(Bad) train_n: 11, offks: 0.3761402675174128 by vars: 19\n",
      "(Bad) train_n: 12, offks: 0.37541434276469854 by vars: 19\n",
      "(Bad) train_n: 13, offks: 0.381315073968904 by vars: 19\n",
      "(Bad) train_n: 14, offks: 0.38216167192726425 by vars: 19\n",
      "(Bad) train_n: 15, offks: 0.3816554101192025 by vars: 19\n",
      "(Good) train_n: 16, offks: 0.3873393066570128 by vars: hz_30_days_cnt_cargo_compensate\n",
      "(Bad) train_n: 17, offks: 0.3806777686015861 by vars: 18\n",
      "(Bad) train_n: 18, offks: 0.3804684760105438 by vars: 18\n",
      "(Bad) train_n: 19, offks: 0.37708868349303676 by vars: 18\n",
      "(Bad) train_n: 20, offks: 0.37493447822037196 by vars: 18\n",
      "(Bad) train_n: 21, offks: 0.3837125111716991 by vars: 18\n",
      "(Bad) train_n: 22, offks: 0.37566888780785807 by vars: 18\n",
      "(Bad) train_n: 23, offks: 0.3746799331772123 by vars: 18\n",
      "(Bad) train_n: 24, offks: 0.37864895033166274 by vars: 18\n",
      "(Bad) train_n: 25, offks: 0.38319870728828453 by vars: 18\n",
      "(Bad) train_n: 26, offks: 0.376969895806229 by vars: 18\n",
      "(Bad) train_n: 27, offks: 0.38060894716399113 by vars: 18\n",
      "(Bad) train_n: 28, offks: 0.37258889278562785 by vars: 18\n",
      "(Bad) train_n: 29, offks: 0.36918835956090035 by vars: 18\n",
      "(Bad) train_n: 30, offks: 0.37558592497897647 by vars: 18\n",
      "(Bad) train_n: 31, offks: 0.3788488153285139 by vars: 18\n",
      "(Bad) train_n: 32, offks: 0.3829111656654562 by vars: 18\n",
      "(Bad) train_n: 33, offks: 0.3817383729480841 by vars: 18\n",
      "(Bad) train_n: 34, offks: 0.3784537991319071 by vars: 18\n",
      "(Bad) train_n: 35, offks: 0.3806777686015861 by vars: 18\n",
      "(Bad) train_n: 36, offks: 0.3804684760105438 by vars: 18\n",
      "(Bad) train_n: 37, offks: 0.37708868349303676 by vars: 18\n",
      "(Bad) train_n: 38, offks: 0.37493447822037196 by vars: 18\n",
      "(Bad) train_n: 39, offks: 0.3837125111716991 by vars: 18\n",
      "(End) train_n: 39, offks: 0.3837125111716991 del_list_vars: ['sj_60_days_cnt_compensate_suceess_rate', 'sj_card_name_woe', 'hz_30_days_cnt_cargo_compensate']\n"
     ]
    }
   ],
   "source": [
    "# step8: 变量自动化调整(是否可以删除一些无用的变量)\n",
    "xgBoost(datasets=datasets, uid=uid, dep=dep, weight=weight,\n",
    "        var_names=var_names, params=params, max_del_var_nums=1).auto_delete_vars()"
   ]
  },
  {
   "cell_type": "code",
   "execution_count": 22,
   "metadata": {
    "ExecuteTime": {
     "end_time": "2020-09-14T14:12:51.197500Z",
     "start_time": "2020-09-14T14:12:51.186563Z"
    },
    "scrolled": true
   },
   "outputs": [
    {
     "name": "stdout",
     "output_type": "stream",
     "text": [
      "var_names: 18\n"
     ]
    }
   ],
   "source": [
    "del_list = ['sj_60_days_cnt_compensate_suceess_rate',\n",
    "            'sj_card_name_woe',\n",
    "            'hz_30_days_cnt_cargo_compensate']\n",
    "\n",
    "for i in del_list:\n",
    "    var_names.remove(i)\n",
    "print(\"var_names: %s\" % len(var_names))\n",
    "\n",
    "var_names_end = {'变量': var_names}\n",
    "pd.DataFrame(var_names_end).to_csv(r\"report\\var_names_end.csv\", index=None)"
   ]
  },
  {
   "cell_type": "markdown",
   "metadata": {},
   "source": [
    "# 重新拟合模型并且生成报告"
   ]
  },
  {
   "cell_type": "code",
   "execution_count": 25,
   "metadata": {
    "ExecuteTime": {
     "end_time": "2020-09-14T14:16:02.259594Z",
     "start_time": "2020-09-14T14:16:01.794835Z"
    }
   },
   "outputs": [
    {
     "name": "stdout",
     "output_type": "stream",
     "text": [
      "var_names: 18\n"
     ]
    }
   ],
   "source": [
    "#生成报告\n",
    "var_names = excelReader(file=r\"report\\model_trace.xlsx\", sheet=\"vars\", var_names=[]).getcols()\n",
    "print(\"var_names: %s\" % len(var_names))\n",
    "\n",
    "params = {'max_depth': 5, 'learning_rate': 0.09000000000000001, \n",
    "          'n_estimators': 120, 'min_child_weight': 50, \n",
    "          'subsample': 1.0, 'scale_pos_weight': 1, 'reg_lambda': 21}\n",
    "\n",
    "datasets = getDataSets(devp=r'data\\dev_raw_data_special_woe_trt.csv',\n",
    "                       valp=r'data\\val_raw_data_special_woe_trt.csv',\n",
    "                       offp=r'data\\off_raw_data_special_woe_trt.csv',\n",
    "                       usecols=var_names + [uid, weight, dep]).loading()"
   ]
  },
  {
   "cell_type": "code",
   "execution_count": 26,
   "metadata": {
    "ExecuteTime": {
     "end_time": "2020-09-14T14:16:32.637456Z",
     "start_time": "2020-09-14T14:16:28.939350Z"
    },
    "scrolled": true
   },
   "outputs": [
    {
     "name": "stdout",
     "output_type": "stream",
     "text": [
      "del var:  18 --> 18 ks:  {'devks': 0.39730211031008233, 'valks': 0.3340299496763066, 'offks': 0.37401340226790203, 'valpsi': 0.0009791947578007745, 'offpsi': 0.0032080513949902622} \n",
      "[331.0, 182.0, 117.0, 94.0, 71.0, 58.0, 44.0, 39.0, 52.0, 43.0, 36.0, 39.0, 26.0, 30.0, 28.0, 13.0, 18.0, 17.0, 12.0, 1.0]\n",
      "dev ks: 0.3918657414671415\n",
      "[169.0, 99.0, 74.0, 57.0, 35.0, 38.0, 46.0, 36.0, 24.0, 21.0, 22.0, 21.0, 19.0, 15.0, 22.0, 27.0, 20.0, 9.0, 14.0, 8.0]\n",
      "val ks: 0.32202015521834815\n",
      "[95.0, 53.0, 45.0, 37.0, 38.0, 21.0, 26.0, 14.0, 9.0, 16.0, 10.0, 10.0, 9.0, 16.0, 10.0, 8.0, 7.0, 8.0, 10.0, 2.0]\n",
      "off ks: 0.36506850089939247\n"
     ]
    }
   ],
   "source": [
    "xgBoost(datasets=datasets,\n",
    "        uid=uid, \n",
    "        dep=dep, \n",
    "        weight=weight, \n",
    "        var_names=var_names, \n",
    "        params=params,\n",
    "        max_del_var_nums=0).training(min_score=0.02, \n",
    "                             modelfile=r\"report\\model_report.pmml\", \n",
    "                             output_scores=[])"
   ]
  },
  {
   "cell_type": "code",
   "execution_count": 33,
   "metadata": {
    "ExecuteTime": {
     "end_time": "2020-09-14T12:00:49.488522Z",
     "start_time": "2020-09-14T12:00:49.456307Z"
    }
   },
   "outputs": [
    {
     "data": {
      "text/plain": [
       "XGBClassifier(base_score=0.5, booster='gbtree', colsample_bylevel=1,\n",
       "              colsample_bynode=1, colsample_bytree=1, gamma=0, gpu_id=-1,\n",
       "              importance_type='gain', interaction_constraints='',\n",
       "              learning_rate=0.09000000000000001, max_delta_step=0, max_depth=5,\n",
       "              min_child_weight=50, missing=None, monotone_constraints='()',\n",
       "              n_estimators=120, n_jobs=10, nthread=10, num_parallel_tree=1,\n",
       "              random_state=7, reg_alpha=0, reg_lambda=21, scale_pos_weight=1,\n",
       "              subsample=1.0, tree_method='exact', validate_parameters=1,\n",
       "              verbosity=None)"
      ]
     },
     "execution_count": 33,
     "metadata": {},
     "output_type": "execute_result"
    }
   ],
   "source": [
    "path = r'C:\\Users\\半兵卫\\Documents\\006 项目\\项目1 货运放空赔付模型（自动化建模）'\n",
    "import joblib\n",
    "model = joblib.load(path + './model.pkl') \n",
    "model"
   ]
  },
  {
   "cell_type": "code",
   "execution_count": 34,
   "metadata": {
    "ExecuteTime": {
     "end_time": "2020-09-14T12:01:12.707754Z",
     "start_time": "2020-09-14T12:01:12.679866Z"
    }
   },
   "outputs": [
    {
     "data": {
      "text/plain": [
       "array([0.03121824, 0.02948882, 0.02666607, ..., 0.06446788, 0.2195385 ,\n",
       "       0.01402299], dtype=float32)"
      ]
     },
     "execution_count": 34,
     "metadata": {},
     "output_type": "execute_result"
    }
   ],
   "source": [
    "#打分code\n",
    "model.predict_proba(datasets['off'][var_names])[:,1]"
   ]
  },
  {
   "cell_type": "code",
   "execution_count": 24,
   "metadata": {
    "ExecuteTime": {
     "end_time": "2020-09-03T05:22:52.628693Z",
     "start_time": "2020-09-03T05:22:50.845465Z"
    }
   },
   "outputs": [
    {
     "name": "stdout",
     "output_type": "stream",
     "text": [
      "[1108.0, 22.0, 16.0, 23.0, 4.0, 3.0, 2.0, 1.0, 2.0, 0, 0, 0, 0, 0, 0]\n",
      "dev ks: 0.8857572882035587\n",
      "[191.0, 87.0, 85.0, 61.0, 54.0, 45.0, 44.0, 50.0, 34.0, 36.0, 31.0, 25.0, 23.0, 20.0, 20.0]\n",
      "val ks: 0.2635741473180593\n",
      "[87.0, 47.0, 41.0, 33.0, 18.0, 26.0, 25.0, 23.0, 22.0, 19.0, 13.0, 19.0, 12.0, 10.0, 5.0]\n",
      "off ks: 0.2571875\n"
     ]
    }
   ],
   "source": [
    "#生成报告\n",
    "xgBoost(datasets=datasets, uid=uid, dep=dep, weight=weight,\n",
    "        var_names=var_names, params=params, max_del_var_nums=0).plotKS(model, bins=15)"
   ]
  },
  {
   "cell_type": "code",
   "execution_count": null,
   "metadata": {},
   "outputs": [],
   "source": []
  },
  {
   "cell_type": "code",
   "execution_count": null,
   "metadata": {},
   "outputs": [],
   "source": []
  },
  {
   "cell_type": "code",
   "execution_count": null,
   "metadata": {},
   "outputs": [],
   "source": []
  },
  {
   "cell_type": "code",
   "execution_count": null,
   "metadata": {},
   "outputs": [],
   "source": []
  },
  {
   "cell_type": "code",
   "execution_count": null,
   "metadata": {},
   "outputs": [],
   "source": []
  },
  {
   "cell_type": "code",
   "execution_count": null,
   "metadata": {},
   "outputs": [],
   "source": []
  },
  {
   "cell_type": "code",
   "execution_count": null,
   "metadata": {},
   "outputs": [],
   "source": []
  },
  {
   "cell_type": "code",
   "execution_count": null,
   "metadata": {},
   "outputs": [],
   "source": []
  }
 ],
 "metadata": {
  "kernelspec": {
   "display_name": "Python 3",
   "language": "python",
   "name": "python3"
  },
  "language_info": {
   "codemirror_mode": {
    "name": "ipython",
    "version": 3
   },
   "file_extension": ".py",
   "mimetype": "text/x-python",
   "name": "python",
   "nbconvert_exporter": "python",
   "pygments_lexer": "ipython3",
   "version": "3.7.6"
  },
  "toc": {
   "base_numbering": 1,
   "nav_menu": {},
   "number_sections": true,
   "sideBar": true,
   "skip_h1_title": false,
   "title_cell": "Table of Contents",
   "title_sidebar": "Contents",
   "toc_cell": false,
   "toc_position": {},
   "toc_section_display": true,
   "toc_window_display": true
  }
 },
 "nbformat": 4,
 "nbformat_minor": 4
}
